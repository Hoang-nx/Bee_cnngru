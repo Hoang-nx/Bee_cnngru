{
 "cells": [
  {
   "cell_type": "code",
   "execution_count": 1,
   "id": "75b547f8",
   "metadata": {},
   "outputs": [
    {
     "name": "stderr",
     "output_type": "stream",
     "text": [
      "Failed to detect the name of this notebook, you can set it manually with the WANDB_NOTEBOOK_NAME environment variable to enable code saving.\n",
      "\u001b[34m\u001b[1mwandb\u001b[0m: Currently logged in as: \u001b[33mmaiquanh\u001b[0m. Use \u001b[1m`wandb login --relogin`\u001b[0m to force relogin\n"
     ]
    },
    {
     "data": {
      "text/plain": [
       "True"
      ]
     },
     "execution_count": 1,
     "metadata": {},
     "output_type": "execute_result"
    }
   ],
   "source": [
    "import wandb\n",
    "wandb.login()"
   ]
  },
  {
   "cell_type": "code",
   "execution_count": 2,
   "id": "0bac34f0",
   "metadata": {},
   "outputs": [
    {
     "name": "stderr",
     "output_type": "stream",
     "text": [
      "/home/quanhhh/.conda/envs/torch/lib/python3.10/site-packages/tqdm/auto.py:21: TqdmWarning: IProgress not found. Please update jupyter and ipywidgets. See https://ipywidgets.readthedocs.io/en/stable/user_install.html\n",
      "  from .autonotebook import tqdm as notebook_tqdm\n"
     ]
    }
   ],
   "source": [
    "import numpy as np\n",
    "import pandas as pd\n",
    "import torch.nn as nn\n",
    "\n",
    "import pickle\n",
    "import torch\n",
    "import time\n",
    "import copy\n",
    "import sys\n",
    "import time\n",
    "import os\n",
    "from torch import optim\n",
    "from torch.utils.data import Dataset\n",
    "from torch.utils.data.dataloader import DataLoader"
   ]
  },
  {
   "cell_type": "code",
   "execution_count": 3,
   "id": "29ce5467",
   "metadata": {},
   "outputs": [],
   "source": [
    "import yaml\n",
    "config_wbd = {}\n",
    "with open('/home/quanhhh/Documents/model/model_spec/sweep.yml', 'r') as f:\n",
    "    config_wdb = yaml.safe_load(f)"
   ]
  },
  {
   "cell_type": "code",
   "execution_count": 4,
   "id": "9fd8da52",
   "metadata": {},
   "outputs": [
    {
     "data": {
      "text/plain": [
       "{'method': 'bayes',\n",
       " 'metric': {'goal': 'maximize', 'name': 'val_acc'},\n",
       " 'parameters': {'batch_size': {'value': 128},\n",
       "  'd_hidden': {'values': [4, 8, 16, 32, 64]},\n",
       "  'kernel_size_1': {'distribution': 'int_uniform', 'min': 2, 'max': 11},\n",
       "  'kernel_size_2': {'distribution': 'int_uniform', 'min': 2, 'max': 11},\n",
       "  'maxpool_1': {'distribution': 'int_uniform', 'min': 2, 'max': 8},\n",
       "  'maxpool_2': {'distribution': 'int_uniform', 'min': 2, 'max': 8},\n",
       "  'num_epoch': {'value': 1},\n",
       "  'num_filters_1': {'distribution': 'int_uniform', 'min': 20, 'max': 80},\n",
       "  'num_filters_2': {'distribution': 'int_uniform', 'min': 10, 'max': 80},\n",
       "  'num_layers': {'distribution': 'int_uniform', 'min': 2, 'max': 4},\n",
       "  'lr': {'distribution': 'log_uniform_values', 'min': 1e-05, 'max': 0.005},\n",
       "  'weight_decay': {'distribution': 'log_uniform_values',\n",
       "   'min': 0.0001,\n",
       "   'max': 0.0005},\n",
       "  'dropout': {'distribution': 'uniform', 'min': 0.01, 'max': 0.6},\n",
       "  'data_dir': {'value': '/home/quanhhh/Documents/model/data_dir/'},\n",
       "  'result_dir': {'value': '/home/quanhhh/Documents/model/model_spec/results/'}}}"
      ]
     },
     "execution_count": 4,
     "metadata": {},
     "output_type": "execute_result"
    }
   ],
   "source": [
    "config_wdb"
   ]
  },
  {
   "cell_type": "code",
   "execution_count": 5,
   "id": "11d0db0a",
   "metadata": {},
   "outputs": [],
   "source": [
    "#dataloader\n",
    "# import numpy as np\n",
    "# import pickle\n",
    "# from torch.utils.data import Dataset\n",
    "\n",
    "class CustomDataset(Dataset):\n",
    "    def __init__(self, config, path):\n",
    "        super().__init__()\n",
    "        self.config = config\n",
    "        self.path = path\n",
    "        self.load_dataset()\n",
    "    \n",
    "    def __len__(self):\n",
    "        return self.data_.shape[0]\n",
    "    \n",
    "    def __getitem__(self, index):\n",
    "        return {'input':self.data_[index], \n",
    "                'labels': self.labels[index]}\n",
    "    \n",
    "    def load_dataset(self):\n",
    "        data = {}\n",
    "        path_ = \"/home/quanhhh/Documents/model/data_dir/\" + self.path\n",
    "        with np.load(path_, 'rb') as f:\n",
    "            data['data'] = f['data']\n",
    "            data['label'] = f['label']\n",
    "        self.data_ = data['data'].transpose(0,2,1)\n",
    "        self.data_ = np.expand_dims(self.data_, axis=1)\n",
    "        \n",
    "        \n",
    "        # self.shape_h = self.data_.shape[2]\n",
    "        # self.shape_w = self.data_.shape[3]\n",
    "        self.labels = data['label']\n",
    "    def getshape(self):\n",
    "        return self.data_.shape[1:]\n",
    "            "
   ]
  },
  {
   "cell_type": "markdown",
   "id": "ceece34c",
   "metadata": {},
   "source": [
    "# Model"
   ]
  },
  {
   "cell_type": "code",
   "execution_count": 6,
   "id": "1ad4ea48",
   "metadata": {},
   "outputs": [],
   "source": [
    "#model\n",
    "# import torch.nn as nn\n",
    "class Conv_gru(nn.Module):\n",
    "    def __init__(self, shape_data, num_filters, kernel_size, maxpooling, d_hidden, num_layers, dropout=0.1):\n",
    "        super().__init__()\n",
    "        self.shape_data = shape_data\n",
    "        self.num_filters = num_filters\n",
    "        self.kernel_size = kernel_size\n",
    "        # self.strides = strides\n",
    "        self.maxpooling = maxpooling\n",
    "        self.d_hidden = d_hidden\n",
    "        self.num_layers = num_layers\n",
    "        self.dropout = dropout\n",
    "\n",
    "        # input -> conv2d -> batchnorm -> maxpool2d ->conv2d -> batchnorm -> maxpool \n",
    "        \n",
    "        # torch.nn.Conv2d(in_channels, out_channels, kernel_size, stride=1, padding=0, dilation=1, groups=1, bias=True, padding_mode='zeros', device=None, dtype=None)\n",
    "\n",
    "        self.conv1 = nn.Conv2d(\n",
    "                            in_channels=self.shape_data[0], \n",
    "                            out_channels=self.num_filters[0], \n",
    "                            kernel_size=self.kernel_size[0],\n",
    "                            )\n",
    "\n",
    "        self.conv2 = nn.Conv2d(\n",
    "                            in_channels=self.num_filters[0], \n",
    "                            out_channels=self.num_filters[1], \n",
    "                            kernel_size=self.kernel_size[1],\n",
    "                            )\n",
    "        # self.conv3 = nn.Conv2d(\n",
    "        #                     in_channels=self.num_filters[1], \n",
    "        #                     out_channels=1, \n",
    "        #                     kernel_size=3,\n",
    "        #                     )\n",
    "        # nn.init.xavier_uniform_(self.conv1.weight)\n",
    "        # nn.init.zeros_(self.conv1.bias)\n",
    "        # nn.init.xavier_uniform_(self.conv2.weight)\n",
    "        # nn.init.zeros_(self.conv2.bias)\n",
    "\n",
    "        self.f_activation1 = nn.ReLU()\n",
    "        self.f_activation2 = nn.ReLU()\n",
    "\n",
    "\n",
    "        # torch.nn.BatchNorm2d(num_features, eps=1e-05, momentum=0.1, affine=True, track_running_stats=True, device=None, dtype=None)\n",
    "        self.batchNorm1 = nn.BatchNorm2d(num_features=self.num_filters[0])\n",
    "        self.batchNorm2 = nn.BatchNorm2d(num_features=self.num_filters[1])\n",
    "\n",
    "        # torch.nn.MaxPool2d(kernel_size, stride=None, padding=0, dilation=1, return_indices=False, ceil_mode=False)\n",
    "        \n",
    "        self.maxpooling1 = nn.MaxPool2d(kernel_size=self.maxpooling[0])\n",
    "        self.maxpooling2 = nn.MaxPool2d(kernel_size=self.maxpooling[1])\n",
    "\n",
    "    \n",
    "        self.h_conv1 = int((self.shape_data[1] - self.kernel_size[0]) + 1)\n",
    "        self.w_conv1 = int((self.shape_data[2] - self.kernel_size[0]) + 1)\n",
    "\n",
    "        self.h_maxpool1 = int((self.h_conv1 - self.maxpooling[0])/self.maxpooling[0] + 1)\n",
    "        self.w_maxpool1 = int((self.w_conv1 - self.maxpooling[0])/self.maxpooling[0] + 1)  \n",
    "\n",
    "        self.h_conv2 = int((self.h_maxpool1 - self.kernel_size[1]) + 1)\n",
    "        self.w_conv2 = int((self.w_maxpool1 - self.kernel_size[1]) + 1)\n",
    "\n",
    "        self.h_maxpool2 = int((self.h_conv2 - self.maxpooling[1])/self.maxpooling[1] + 1)\n",
    "        self.w_maxpool2 = int((self.w_conv2 - self.maxpooling[1])/self.maxpooling[1] + 1)  \n",
    "\n",
    "        # self.h_conv3 = int((self.h_maxpool2 - 3) + 1)\n",
    "        # self.w_conv3 = int((self.w_maxpool2 - 3) + 1)\n",
    "        \n",
    "        self.gru = nn.GRU(self.w_maxpool2, self.d_hidden, self.num_layers, batch_first=True, dropout=self.dropout)\n",
    "        self.linear = nn.Linear(self.d_hidden, 3)\n",
    "        self.softmax = nn.Softmax(dim=1)\n",
    "    \n",
    "    def forward(self, x):\n",
    "        \n",
    "        #layer1\n",
    "        self.conv1_out = self.conv1(x)\n",
    "        self.conv1relu_out = self.f_activation1(self.conv1_out)\n",
    "        \n",
    "        #layer2\n",
    "        \n",
    "        self.batchNorm1_out = self.batchNorm1(self.conv1relu_out)\n",
    "        self.maxpooling1_out = self.maxpooling1(self.batchNorm1_out)\n",
    "        \n",
    "        self.conv2_out = self.conv2(self.maxpooling1_out)\n",
    "        self.conv2relu_out = self.f_activation2(self.conv2_out)\n",
    "        \n",
    "        #layer3\n",
    "        self.batchNorm2_out = self.batchNorm2(self.conv2relu_out)\n",
    "        self.maxpooling2_out = self.maxpooling2(self.batchNorm2_out)\n",
    "        # self.outcnn = self.conv3(self.maxpooling2_out)\n",
    "\n",
    "        # # \n",
    "        # self.outcnn = torch.squeeze(self.outcnn, dim=1) \n",
    "        self.outcnn = torch.sum(self.maxpooling2_out, dim=1)/self.num_filters[1] #(batch, h, w)\n",
    "        # self.outcnn = torch.flatten(self.maxpooling2_out, start_dim=1, end_dim=2)\n",
    "        \n",
    "        #layer4\n",
    "        h_c = self.init_hidden(len(self.outcnn))\n",
    "        self.out, _ = self.gru(self.outcnn, h_c)\n",
    "        self.outfinal = self.linear(self.out[:,-1,:])\n",
    "        return self.softmax(self.outfinal)\n",
    "            \n",
    "    def init_hidden(self, batch_size):\n",
    "        self.batch = batch_size\n",
    "        weight = next(self.gru.parameters()).data\n",
    "        \n",
    "        hidden = weight.new(self.num_layers, batch_size, self.d_hidden).zero_()        \n",
    "        # cell = weight.new(self.num_layers, batch_size, self.d_hidden).zero_()\n",
    "        \n",
    "        return hidden #, cell)\n",
    "\n",
    "        \n",
    "\n",
    "        "
   ]
  },
  {
   "cell_type": "markdown",
   "id": "99a06853",
   "metadata": {},
   "source": [
    "# Train"
   ]
  },
  {
   "cell_type": "code",
   "execution_count": 7,
   "id": "36910b17",
   "metadata": {},
   "outputs": [],
   "source": [
    "# import pandas as pd\n",
    "# import numpy as np\n",
    "# import torch\n",
    "# import torch.nn as nn\n",
    "# from torch import optim\n",
    "# import time\n",
    "# import copy\n",
    "\n",
    "class ClassificationTrainer():\n",
    "    def __init__(self, model, train_data, val_data, val_set, device, config, buzz='buzz1'):\n",
    "        self.model = model\n",
    "    \n",
    "        self.train_data = train_data\n",
    "        self.val_data = val_data\n",
    "        self.val_set = val_set\n",
    "        self.device = device\n",
    "        self.config = config\n",
    "        self.max_acc = 95.67\n",
    "        self.max_val = 0\n",
    "        self.counter = 0\n",
    "        self.patience = 3\n",
    "        self.train_loss_list = list()\n",
    "        self.test_loss_list = list()\n",
    "        self.train_acc_list = list()\n",
    "        self.test_acc_list = list()\n",
    "        self.val_acc_list = list()\n",
    "        self.best_epoch = 0\n",
    "        self.timels = list()\n",
    "        self.time_epoch = list()\n",
    "        self.best_model = None\n",
    "        self.buzz = buzz\n",
    "    \n",
    "    def train_epoch(self, criterion, opt, epoch):\n",
    "        train_loss = 0.0\n",
    "        train_acc = 0.0\n",
    "        self.model.train()\n",
    "        lenght_train = 0\n",
    "        for i, data in enumerate(self.train_data):\n",
    "            input = data['input'].float().to(self.device)            \n",
    "            target = data['labels'].float().to(self.device)\n",
    "            out = self.model(input)\n",
    "            lenght_train += len(input)\n",
    "            opt.zero_grad()\n",
    "            \n",
    "            loss = criterion(out, target)\n",
    "            loss.backward()\n",
    "            opt.step()\n",
    "            train_loss += loss.item()\n",
    "\n",
    "        \n",
    "        self.model.eval()\n",
    "        \n",
    "        with torch.no_grad():\n",
    "            for i, data in enumerate(self.train_data):\n",
    "                input = data['input'].float().to(self.device)            \n",
    "                target = data['labels'].float().to(self.device)\n",
    "                \n",
    "                out = self.model(input)  \n",
    "                classes = torch.argmax(out, axis=1)\n",
    "                target_ = torch.argmax(target, axis=1)\n",
    "                # print(\"train ok\")\n",
    "                #print(classes, target_)\n",
    "                train_acc += torch.sum(classes == target_)\n",
    "        self.train_loss = train_loss/lenght_train\n",
    "        self.train_acc = train_acc.item()*100/lenght_train\n",
    "        self.train_loss_list.append(self.train_loss)\n",
    "        self.train_acc_list.append(self.train_acc)\n",
    "        \n",
    "        \n",
    "        # print('\\nEpoch: {}\\t| Train_loss: {:.6f}\\t|Train accuracy: {:.6f}'.format(epoch, train_loss, train_acc))\n",
    "        if self.val_data is None:\n",
    "            if train_loss < self.min_loss:\n",
    "                self.min_loss = train_loss\n",
    "                self.best_epoch = epoch\n",
    "        else:\n",
    "            self.validate_epoch(criterion, epoch)\n",
    "        \n",
    "    def validate_epoch(self, criterion, epoch):\n",
    "        test_loss = 0.0\n",
    "        test_acc = 0.\n",
    "        val_acc = 0.0\n",
    "        lenght = 0\n",
    "        lenghtval = 0\n",
    "        self.model.eval()\n",
    "        with torch.no_grad():\n",
    "            for i, data in enumerate(self.val_data):\n",
    "                input = data['input'].float().to(self.device)\n",
    "                target = data['labels'].float().to(self.device)\n",
    "                \n",
    "                out = self.model(input)\n",
    "                lenght += len(input)\n",
    "                classes = torch.argmax(out, axis=1)\n",
    "                target_ = torch.argmax(target, axis=1)\n",
    "                test_acc += torch.sum(classes == target_)\n",
    "                loss = criterion(out, target)\n",
    "                test_loss += loss.item()\n",
    "                # print(\"tst ok\")\n",
    "            \n",
    "            for i, data in enumerate(self.val_set):\n",
    "                input = data['input'].float().to(self.device)\n",
    "                target = data['labels'].float().to(self.device)\n",
    "                \n",
    "                out = self.model(input)\n",
    "                lenghtval += len(input)\n",
    "                \n",
    "                classes = torch.argmax(out, axis=1)\n",
    "                target_ = torch.argmax(target, axis=1)\n",
    "                val_acc += torch.sum(classes == target_)\n",
    "                # print(\"val ok\")\n",
    "            \n",
    "        val_acc = val_acc*100/lenghtval  \n",
    "        test_loss = test_loss/lenght\n",
    "        test_acc = test_acc.item()*100/lenght\n",
    "        self.test_loss_list.append(test_loss)\n",
    "        self.test_acc_list.append(test_acc)\n",
    "        self.val_acc_list.append(val_acc.item())\n",
    "        print('\\rEpoch: {}\\t| Train_loss: {:.6f}\\t|Train accuracy: {:.6f}\\t| Test_loss: {:.6f}\\t|Test accuracy: {:.6f}\\t|Val accuracy: {:.6f} '.format(\n",
    "                                                                                                                                        epoch, \n",
    "                                                                                                                                        self.train_loss, \n",
    "                                                                                                                                        self.train_acc, \n",
    "                                                                                                                                        test_loss, \n",
    "                                                                                                                                        test_acc, \n",
    "                                                                                                                                        val_acc), \n",
    "                                                                                                                                        end=\"\\r\") \n",
    "        wandb.log({'test_acc': test_acc})\n",
    "        if epoch == self.config['num_epoch']:\n",
    "            self.max_val = val_acc\n",
    "            # self.best_epoch = epoch\n",
    "            if self.max_val > 98.50 and test_acc > 95.67:\n",
    "                self.best_model_path = \"/home/quanhhh/Documents/model/model_spec/result_buzz2/\" + \"{}_model_{}num_layers_({},{})filters_({},{})kernel_size_({},{})maxpool_{}lr_{}epoch.pt\".format(\n",
    "                    self.buzz,\n",
    "                    self.config['num_layers'],\n",
    "                    self.config['num_filters_1'],\n",
    "                    self.config['num_filters_2'],\n",
    "                    self.config[\"kernel_size_1\"],\n",
    "                    self.config[\"kernel_size_2\"],\n",
    "                    # self.config[\"stride_1\"],\n",
    "                    # self.config[\"stride_2\"],\n",
    "                    self.config[\"maxpool_1\"],\n",
    "                    self.config[\"maxpool_2\"],\n",
    "                    self.config['lr'],\n",
    "                    epoch,\n",
    "                    \n",
    "                )\n",
    "                self.best_model = copy.deepcopy(self.model)\n",
    "        \n",
    "    def train(self):\n",
    "        self.model.to(self.device)  \n",
    "        \n",
    "        start = time.perf_counter()\n",
    "        model_opt = optim.Adam(self.model.parameters(), self.config['lr'], weight_decay = self.config['weight_decay'])\n",
    "        criterion = nn.CrossEntropyLoss()\n",
    "\n",
    "        print(\"-----START TRAINING CLASSIFICATION-----\")\n",
    "        for epoch in range(1, self.config['num_epoch'] + 1):\n",
    "            start1 = time.perf_counter()\n",
    "            self.train_epoch(criterion, model_opt, epoch)  \n",
    "            self.timels.append(time.perf_counter() - start1)\n",
    "            self.time_epoch.append(time.perf_counter() - start)\n",
    "        print('\\n')\n",
    "        self.config['train_time'] = (time.perf_counter() - start)/60\n",
    "        print(\"----COMPLETED TRAINING CLASSIFICATION-----\")\n",
    "\n",
    "       \n",
    "        if self.best_model is not None:\n",
    "            torch.save(self.best_model.state_dict(), self.best_model_path)\n",
    "            self.config['best_model_path'] = self.best_model_path\n",
    "        else:\n",
    "            self.config['best_model_path'] = ''\n",
    "\n",
    "        self.config['val_acc'] = self.max_val\n",
    "        self.config['time_per_epoch'] = self.time_epoch\n",
    "        self.config['time_train'] = self.timels\n",
    "        self.config['train_loss'] = self.train_loss_list\n",
    "        self.config['train_acc'] = self.train_acc_list\n",
    "        self.config['test_loss'] = self.test_loss_list\n",
    "        self.config['val_accuracy'] = self.val_acc_list\n",
    "        self.config['test_accuracy'] = self.test_acc_list\n",
    "\n",
    "        x = range(0,100)\n",
    "        test_loss = np.asarray(self.test_loss_list)\n",
    "        train_loss = np.asarray(self.train_loss_list)\n",
    "\n",
    "        val_acc = np.asarray(self.val_acc_list)\n",
    "        train_acc = np.asarray(self.train_acc_list)\n",
    "\n",
    "        wandb.log({\"Loss\": wandb.plot.line_series(xs=x, ys=[train_loss, test_loss], keys=[\"train_loss\",\"test_loss\"])})\n",
    "        wandb.log({\"Accuracy\": wandb.plot.line_series(xs=x, ys=[train_acc, val_acc], keys=[\"train_acc\",\"val_acc\"])})\n",
    "\n",
    "    def get_updated_config(self):\n",
    "        return self.config\n",
    "    \n",
    "    def load_model(self, path = None):\n",
    "        if path is None:\n",
    "            path = self.config['result_dir'] + \"model.pt\"\n",
    "        self.model.load_state_dict(torch.load(path))\n",
    "        self.model.eval()        \n",
    "      "
   ]
  },
  {
   "cell_type": "markdown",
   "id": "a1b8dcd2",
   "metadata": {},
   "source": [
    "# Train.py"
   ]
  },
  {
   "cell_type": "code",
   "execution_count": 8,
   "id": "d81cb50c",
   "metadata": {},
   "outputs": [
    {
     "name": "stdout",
     "output_type": "stream",
     "text": [
      "Create sweep with ID: smk5hhg0\n",
      "Sweep URL: https://wandb.ai/maiquanh/melspec_buzz2_cpu_0708/sweeps/smk5hhg0\n"
     ]
    }
   ],
   "source": [
    "sweep_id = wandb.sweep(sweep=config_wdb, project='melspec_buzz2_cpu_0708')\n",
    "# sweep_id = \"melspec_buzz2_12kHz_0508/xmlponjd\""
   ]
  },
  {
   "cell_type": "code",
   "execution_count": 9,
   "id": "40727418",
   "metadata": {},
   "outputs": [],
   "source": [
    "import torch\n",
    "import sys\n",
    "import time\n",
    "import numpy as np\n",
    "import pandas as pd\n",
    "\n",
    "from torch.utils.data.dataloader import DataLoader\n",
    "\n",
    "\n",
    "device = torch.device(\"cuda:0\" if torch.cuda.is_available() else  \"cpu\")  #  \n",
    "\n",
    "def trainwandb():\n",
    "    with wandb.init(config=config_wbd):\n",
    "        config = wandb.config\n",
    "        train_set = CustomDataset(config, 'buzz1_traindata_12khz.npz')\n",
    "        shape = train_set.getshape()\n",
    "        data_dataloader = DataLoader(train_set, \n",
    "                                      batch_size = 64,\n",
    "                                      shuffle = True)\n",
    "        train_dataloader = []\n",
    "        test_dataloader = []\n",
    "        for i, batch in enumerate(data_dataloader):\n",
    "            if i < len(data_dataloader)*0.7:\n",
    "                train_dataloader.append(batch)\n",
    "            else:\n",
    "                test_dataloader.append(batch)\n",
    "\n",
    "        #buzz1add\n",
    "        # train_set = CustomDataset(config, 'buzz2_traindata_12khz.npz')\n",
    "        # train_dataloader = DataLoader(train_set, \n",
    "        #                             batch_size = 128,\n",
    "        #                             shuffle = True)\n",
    "        # shape = train_set.getshape()\n",
    "        # print(shape)\n",
    "        # val_set = CustomDataset(config, 'buzz2_testdata_12khz.npz')\n",
    "        # test_dataloader = DataLoader(val_set,\n",
    "        #                             batch_size = 128,\n",
    "        #                             shuffle = True)\n",
    "        ###\n",
    "        val_set = CustomDataset(config, 'buzz1_valdata_12khz.npz')\n",
    "        val_set_ = DataLoader(val_set,\n",
    "                                    batch_size = 128,\n",
    "                                    shuffle = True)\n",
    "        torch.manual_seed(10)\n",
    "\n",
    "        print(\"start: \", time.perf_counter_ns())\n",
    "        classification_model = Conv_gru(shape_data=shape, \n",
    "                            num_filters=(config['num_filters_1'], config['num_filters_2']),\n",
    "                            kernel_size=(config['kernel_size_1'], config['kernel_size_2']), \n",
    "                            # strides=(config['stride_1'], config['stride_2']), \n",
    "                            maxpooling=(config['maxpool_1'], config['maxpool_2']), \n",
    "                            d_hidden=config['d_hidden'], \n",
    "                            num_layers= config['num_layers'],\n",
    "                            dropout=config['dropout']\n",
    "                           )\n",
    "        classification_model.float()\n",
    "        classification_trainer = ClassificationTrainer(model=classification_model,\n",
    "                                                    train_data=train_dataloader,\n",
    "                                                    val_data=test_dataloader,\n",
    "                                                    val_set=val_set_,\n",
    "                                                    device=device,\n",
    "                                                    config=config,\n",
    "                                                    buzz=\"buzz2_12khz\")\n",
    "        classification_trainer.train()\n",
    "        print(\"end: \", time.perf_counter_ns())\n",
    "        config = classification_trainer.get_updated_config()\n",
    "        val_acc = config['val_acc']\n",
    "        wandb.log({'val_acc': val_acc})\n",
    "        \n",
    "        if val_acc >= 98.5:\n",
    "            wandb.alert(\n",
    "                title=f\"MaiAnh found new high accuracy ID {sweep_id}\", \n",
    "                text=f\"Accuracy {val_acc} \"\n",
    "            )\n",
    "#         filename = \"{}num_layers_({},{})kernel_size_{}n_filters_({},{})stride_({},{})maxpool_{}lr_{}batch_size\".format(\n",
    "#             config[\"num_layers\"],\n",
    "#             config[\"kernel_size_1\"],\n",
    "#             config[\"kernel_size_2\"],\n",
    "#             config[\"num_filters\"],\n",
    "#             config[\"stride_1\"],\n",
    "#             config[\"stride_2\"],\n",
    "#             config[\"maxpool_1\"],\n",
    "#             config[\"maxpool_2\"],\n",
    "#             config['lr'],\n",
    "#             config['batch_size']\n",
    "#         ).replace(\".\", \"_\")\n",
    "#         PATH = os.path.join(\"configs_wandb/\", \"{}.yml\".format(filename))\n",
    "#         with open(PATH, 'w') as outfile:\n",
    "#             yaml.dump(config, outfile, default_flow_style=False)\n",
    "        # print('ok')"
   ]
  },
  {
   "cell_type": "code",
   "execution_count": 10,
   "id": "c13ad92f",
   "metadata": {
    "scrolled": true
   },
   "outputs": [
    {
     "name": "stderr",
     "output_type": "stream",
     "text": [
      "\u001b[34m\u001b[1mwandb\u001b[0m: Agent Starting Run: avbrlixy with config:\n",
      "\u001b[34m\u001b[1mwandb\u001b[0m: \tbatch_size: 128\n",
      "\u001b[34m\u001b[1mwandb\u001b[0m: \td_hidden: 4\n",
      "\u001b[34m\u001b[1mwandb\u001b[0m: \tdata_dir: /home/quanhhh/Documents/model/data_dir/\n",
      "\u001b[34m\u001b[1mwandb\u001b[0m: \tdropout: 0.5671180998994755\n",
      "\u001b[34m\u001b[1mwandb\u001b[0m: \tkernel_size_1: 3\n",
      "\u001b[34m\u001b[1mwandb\u001b[0m: \tkernel_size_2: 9\n",
      "\u001b[34m\u001b[1mwandb\u001b[0m: \tlr: 3.7714619436957875e-05\n",
      "\u001b[34m\u001b[1mwandb\u001b[0m: \tmaxpool_1: 7\n",
      "\u001b[34m\u001b[1mwandb\u001b[0m: \tmaxpool_2: 4\n",
      "\u001b[34m\u001b[1mwandb\u001b[0m: \tnum_epoch: 1\n",
      "\u001b[34m\u001b[1mwandb\u001b[0m: \tnum_filters_1: 48\n",
      "\u001b[34m\u001b[1mwandb\u001b[0m: \tnum_filters_2: 21\n",
      "\u001b[34m\u001b[1mwandb\u001b[0m: \tnum_layers: 4\n",
      "\u001b[34m\u001b[1mwandb\u001b[0m: \tresult_dir: /home/quanhhh/Documents/model/model_spec/results/\n",
      "\u001b[34m\u001b[1mwandb\u001b[0m: \tweight_decay: 0.00014678812611215432\n",
      "Failed to detect the name of this notebook, you can set it manually with the WANDB_NOTEBOOK_NAME environment variable to enable code saving.\n"
     ]
    },
    {
     "data": {
      "text/html": [
       "wandb version 0.15.8 is available!  To upgrade, please run:\n",
       " $ pip install wandb --upgrade"
      ],
      "text/plain": [
       "<IPython.core.display.HTML object>"
      ]
     },
     "metadata": {},
     "output_type": "display_data"
    },
    {
     "data": {
      "text/html": [
       "Tracking run with wandb version 0.13.4"
      ],
      "text/plain": [
       "<IPython.core.display.HTML object>"
      ]
     },
     "metadata": {},
     "output_type": "display_data"
    },
    {
     "data": {
      "text/html": [
       "Run data is saved locally in <code>/home/quanhhh/Documents/model/model_spec/wandb/run-20230807_085922-avbrlixy</code>"
      ],
      "text/plain": [
       "<IPython.core.display.HTML object>"
      ]
     },
     "metadata": {},
     "output_type": "display_data"
    },
    {
     "data": {
      "text/html": [
       "Syncing run <strong><a href=\"https://wandb.ai/maiquanh/melspec_buzz2_cpu_0708/runs/avbrlixy\" target=\"_blank\">twilight-sweep-1</a></strong> to <a href=\"https://wandb.ai/maiquanh/melspec_buzz2_cpu_0708\" target=\"_blank\">Weights & Biases</a> (<a href=\"https://wandb.me/run\" target=\"_blank\">docs</a>)<br/>Sweep page:  <a href=\"https://wandb.ai/maiquanh/melspec_buzz2_cpu_0708/sweeps/smk5hhg0\" target=\"_blank\">https://wandb.ai/maiquanh/melspec_buzz2_cpu_0708/sweeps/smk5hhg0</a>"
      ],
      "text/plain": [
       "<IPython.core.display.HTML object>"
      ]
     },
     "metadata": {},
     "output_type": "display_data"
    },
    {
     "name": "stdout",
     "output_type": "stream",
     "text": [
      "(1, 169, 128)\n",
      "start:  162820698182176\n",
      "-----START TRAINING CLASSIFICATION-----\n",
      "Epoch: 1\t| Train_loss: 0.008752\t|Train accuracy: 31.680295\t| Test_loss: 0.008929\t|Test accuracy: 38.507719\t|Val accuracy: 33.333332 \n",
      "\n",
      "----COMPLETED TRAINING CLASSIFICATION-----\n",
      "end:  162901102825255\n"
     ]
    },
    {
     "data": {
      "text/html": [
       "Waiting for W&B process to finish... <strong style=\"color:green\">(success).</strong>"
      ],
      "text/plain": [
       "<IPython.core.display.HTML object>"
      ]
     },
     "metadata": {},
     "output_type": "display_data"
    },
    {
     "data": {
      "text/html": [
       "<style>\n",
       "    table.wandb td:nth-child(1) { padding: 0 10px; text-align: left ; width: auto;} td:nth-child(2) {text-align: left ; width: 100%}\n",
       "    .wandb-row { display: flex; flex-direction: row; flex-wrap: wrap; justify-content: flex-start; width: 100% }\n",
       "    .wandb-col { display: flex; flex-direction: column; flex-basis: 100%; flex: 1; padding: 10px; }\n",
       "    </style>\n",
       "<div class=\"wandb-row\"><div class=\"wandb-col\"><h3>Run history:</h3><br/><table class=\"wandb\"><tr><td>test_acc</td><td>▁</td></tr><tr><td>val_acc</td><td>▁</td></tr></table><br/></div><div class=\"wandb-col\"><h3>Run summary:</h3><br/><table class=\"wandb\"><tr><td>test_acc</td><td>38.50772</td></tr><tr><td>val_acc</td><td>33.33333</td></tr></table><br/></div></div>"
      ],
      "text/plain": [
       "<IPython.core.display.HTML object>"
      ]
     },
     "metadata": {},
     "output_type": "display_data"
    },
    {
     "data": {
      "text/html": [
       "Synced <strong style=\"color:#cdcd00\">twilight-sweep-1</strong>: <a href=\"https://wandb.ai/maiquanh/melspec_buzz2_cpu_0708/runs/avbrlixy\" target=\"_blank\">https://wandb.ai/maiquanh/melspec_buzz2_cpu_0708/runs/avbrlixy</a><br/>Synced 6 W&B file(s), 2 media file(s), 2 artifact file(s) and 0 other file(s)"
      ],
      "text/plain": [
       "<IPython.core.display.HTML object>"
      ]
     },
     "metadata": {},
     "output_type": "display_data"
    },
    {
     "data": {
      "text/html": [
       "Find logs at: <code>./wandb/run-20230807_085922-avbrlixy/logs</code>"
      ],
      "text/plain": [
       "<IPython.core.display.HTML object>"
      ]
     },
     "metadata": {},
     "output_type": "display_data"
    },
    {
     "name": "stderr",
     "output_type": "stream",
     "text": [
      "\u001b[34m\u001b[1mwandb\u001b[0m: Sweep Agent: Waiting for job.\n",
      "\u001b[34m\u001b[1mwandb\u001b[0m: Job received.\n",
      "\u001b[34m\u001b[1mwandb\u001b[0m: Agent Starting Run: kri02ebn with config:\n",
      "\u001b[34m\u001b[1mwandb\u001b[0m: \tbatch_size: 128\n",
      "\u001b[34m\u001b[1mwandb\u001b[0m: \td_hidden: 8\n",
      "\u001b[34m\u001b[1mwandb\u001b[0m: \tdata_dir: /home/quanhhh/Documents/model/data_dir/\n",
      "\u001b[34m\u001b[1mwandb\u001b[0m: \tdropout: 0.46376499976720015\n",
      "\u001b[34m\u001b[1mwandb\u001b[0m: \tkernel_size_1: 9\n",
      "\u001b[34m\u001b[1mwandb\u001b[0m: \tkernel_size_2: 9\n",
      "\u001b[34m\u001b[1mwandb\u001b[0m: \tlr: 7.434163550495496e-05\n",
      "\u001b[34m\u001b[1mwandb\u001b[0m: \tmaxpool_1: 7\n",
      "\u001b[34m\u001b[1mwandb\u001b[0m: \tmaxpool_2: 2\n",
      "\u001b[34m\u001b[1mwandb\u001b[0m: \tnum_epoch: 1\n",
      "\u001b[34m\u001b[1mwandb\u001b[0m: \tnum_filters_1: 45\n",
      "\u001b[34m\u001b[1mwandb\u001b[0m: \tnum_filters_2: 74\n",
      "\u001b[34m\u001b[1mwandb\u001b[0m: \tnum_layers: 2\n",
      "\u001b[34m\u001b[1mwandb\u001b[0m: \tresult_dir: /home/quanhhh/Documents/model/model_spec/results/\n",
      "\u001b[34m\u001b[1mwandb\u001b[0m: \tweight_decay: 0.0001639889890400459\n",
      "Failed to detect the name of this notebook, you can set it manually with the WANDB_NOTEBOOK_NAME environment variable to enable code saving.\n"
     ]
    },
    {
     "data": {
      "text/html": [
       "wandb version 0.15.8 is available!  To upgrade, please run:\n",
       " $ pip install wandb --upgrade"
      ],
      "text/plain": [
       "<IPython.core.display.HTML object>"
      ]
     },
     "metadata": {},
     "output_type": "display_data"
    },
    {
     "data": {
      "text/html": [
       "Tracking run with wandb version 0.13.4"
      ],
      "text/plain": [
       "<IPython.core.display.HTML object>"
      ]
     },
     "metadata": {},
     "output_type": "display_data"
    },
    {
     "data": {
      "text/html": [
       "Run data is saved locally in <code>/home/quanhhh/Documents/model/model_spec/wandb/run-20230807_090108-kri02ebn</code>"
      ],
      "text/plain": [
       "<IPython.core.display.HTML object>"
      ]
     },
     "metadata": {},
     "output_type": "display_data"
    },
    {
     "data": {
      "text/html": [
       "Syncing run <strong><a href=\"https://wandb.ai/maiquanh/melspec_buzz2_cpu_0708/runs/kri02ebn\" target=\"_blank\">autumn-sweep-2</a></strong> to <a href=\"https://wandb.ai/maiquanh/melspec_buzz2_cpu_0708\" target=\"_blank\">Weights & Biases</a> (<a href=\"https://wandb.me/run\" target=\"_blank\">docs</a>)<br/>Sweep page:  <a href=\"https://wandb.ai/maiquanh/melspec_buzz2_cpu_0708/sweeps/smk5hhg0\" target=\"_blank\">https://wandb.ai/maiquanh/melspec_buzz2_cpu_0708/sweeps/smk5hhg0</a>"
      ],
      "text/plain": [
       "<IPython.core.display.HTML object>"
      ]
     },
     "metadata": {},
     "output_type": "display_data"
    },
    {
     "name": "stdout",
     "output_type": "stream",
     "text": [
      "(1, 169, 128)\n",
      "start:  162926855180973\n",
      "-----START TRAINING CLASSIFICATION-----\n",
      "Epoch: 1\t| Train_loss: 0.008549\t|Train accuracy: 64.666315\t| Test_loss: 0.008741\t|Test accuracy: 44.253859\t|Val accuracy: 55.166668 \n",
      "\n",
      "----COMPLETED TRAINING CLASSIFICATION-----\n",
      "end:  163014734164489\n"
     ]
    },
    {
     "data": {
      "text/html": [
       "Waiting for W&B process to finish... <strong style=\"color:green\">(success).</strong>"
      ],
      "text/plain": [
       "<IPython.core.display.HTML object>"
      ]
     },
     "metadata": {},
     "output_type": "display_data"
    },
    {
     "data": {
      "text/html": [
       "<style>\n",
       "    table.wandb td:nth-child(1) { padding: 0 10px; text-align: left ; width: auto;} td:nth-child(2) {text-align: left ; width: 100%}\n",
       "    .wandb-row { display: flex; flex-direction: row; flex-wrap: wrap; justify-content: flex-start; width: 100% }\n",
       "    .wandb-col { display: flex; flex-direction: column; flex-basis: 100%; flex: 1; padding: 10px; }\n",
       "    </style>\n",
       "<div class=\"wandb-row\"><div class=\"wandb-col\"><h3>Run history:</h3><br/><table class=\"wandb\"><tr><td>test_acc</td><td>▁</td></tr><tr><td>val_acc</td><td>▁</td></tr></table><br/></div><div class=\"wandb-col\"><h3>Run summary:</h3><br/><table class=\"wandb\"><tr><td>test_acc</td><td>44.25386</td></tr><tr><td>val_acc</td><td>55.16667</td></tr></table><br/></div></div>"
      ],
      "text/plain": [
       "<IPython.core.display.HTML object>"
      ]
     },
     "metadata": {},
     "output_type": "display_data"
    },
    {
     "data": {
      "text/html": [
       "Synced <strong style=\"color:#cdcd00\">autumn-sweep-2</strong>: <a href=\"https://wandb.ai/maiquanh/melspec_buzz2_cpu_0708/runs/kri02ebn\" target=\"_blank\">https://wandb.ai/maiquanh/melspec_buzz2_cpu_0708/runs/kri02ebn</a><br/>Synced 6 W&B file(s), 2 media file(s), 2 artifact file(s) and 0 other file(s)"
      ],
      "text/plain": [
       "<IPython.core.display.HTML object>"
      ]
     },
     "metadata": {},
     "output_type": "display_data"
    },
    {
     "data": {
      "text/html": [
       "Find logs at: <code>./wandb/run-20230807_090108-kri02ebn/logs</code>"
      ],
      "text/plain": [
       "<IPython.core.display.HTML object>"
      ]
     },
     "metadata": {},
     "output_type": "display_data"
    },
    {
     "name": "stderr",
     "output_type": "stream",
     "text": [
      "\u001b[34m\u001b[1mwandb\u001b[0m: Agent Starting Run: zbsh31he with config:\n",
      "\u001b[34m\u001b[1mwandb\u001b[0m: \tbatch_size: 128\n",
      "\u001b[34m\u001b[1mwandb\u001b[0m: \td_hidden: 4\n",
      "\u001b[34m\u001b[1mwandb\u001b[0m: \tdata_dir: /home/quanhhh/Documents/model/data_dir/\n",
      "\u001b[34m\u001b[1mwandb\u001b[0m: \tdropout: 0.5092295922606059\n",
      "\u001b[34m\u001b[1mwandb\u001b[0m: \tkernel_size_1: 11\n",
      "\u001b[34m\u001b[1mwandb\u001b[0m: \tkernel_size_2: 5\n",
      "\u001b[34m\u001b[1mwandb\u001b[0m: \tlr: 0.00028701799576846614\n",
      "\u001b[34m\u001b[1mwandb\u001b[0m: \tmaxpool_1: 2\n",
      "\u001b[34m\u001b[1mwandb\u001b[0m: \tmaxpool_2: 4\n",
      "\u001b[34m\u001b[1mwandb\u001b[0m: \tnum_epoch: 1\n",
      "\u001b[34m\u001b[1mwandb\u001b[0m: \tnum_filters_1: 62\n",
      "\u001b[34m\u001b[1mwandb\u001b[0m: \tnum_filters_2: 23\n",
      "\u001b[34m\u001b[1mwandb\u001b[0m: \tnum_layers: 3\n",
      "\u001b[34m\u001b[1mwandb\u001b[0m: \tresult_dir: /home/quanhhh/Documents/model/model_spec/results/\n",
      "\u001b[34m\u001b[1mwandb\u001b[0m: \tweight_decay: 0.00042615612394388366\n",
      "Failed to detect the name of this notebook, you can set it manually with the WANDB_NOTEBOOK_NAME environment variable to enable code saving.\n"
     ]
    },
    {
     "data": {
      "text/html": [
       "wandb version 0.15.8 is available!  To upgrade, please run:\n",
       " $ pip install wandb --upgrade"
      ],
      "text/plain": [
       "<IPython.core.display.HTML object>"
      ]
     },
     "metadata": {},
     "output_type": "display_data"
    },
    {
     "data": {
      "text/html": [
       "Tracking run with wandb version 0.13.4"
      ],
      "text/plain": [
       "<IPython.core.display.HTML object>"
      ]
     },
     "metadata": {},
     "output_type": "display_data"
    },
    {
     "data": {
      "text/html": [
       "Run data is saved locally in <code>/home/quanhhh/Documents/model/model_spec/wandb/run-20230807_090258-zbsh31he</code>"
      ],
      "text/plain": [
       "<IPython.core.display.HTML object>"
      ]
     },
     "metadata": {},
     "output_type": "display_data"
    },
    {
     "data": {
      "text/html": [
       "Syncing run <strong><a href=\"https://wandb.ai/maiquanh/melspec_buzz2_cpu_0708/runs/zbsh31he\" target=\"_blank\">icy-sweep-3</a></strong> to <a href=\"https://wandb.ai/maiquanh/melspec_buzz2_cpu_0708\" target=\"_blank\">Weights & Biases</a> (<a href=\"https://wandb.me/run\" target=\"_blank\">docs</a>)<br/>Sweep page:  <a href=\"https://wandb.ai/maiquanh/melspec_buzz2_cpu_0708/sweeps/smk5hhg0\" target=\"_blank\">https://wandb.ai/maiquanh/melspec_buzz2_cpu_0708/sweeps/smk5hhg0</a>"
      ],
      "text/plain": [
       "<IPython.core.display.HTML object>"
      ]
     },
     "metadata": {},
     "output_type": "display_data"
    },
    {
     "name": "stdout",
     "output_type": "stream",
     "text": [
      "(1, 169, 128)\n",
      "start:  163036557229694\n",
      "-----START TRAINING CLASSIFICATION-----\n",
      "Epoch: 1\t| Train_loss: 0.008414\t|Train accuracy: 81.324189\t| Test_loss: 0.008614\t|Test accuracy: 70.325901\t|Val accuracy: 19.533333 \n",
      "\n",
      "----COMPLETED TRAINING CLASSIFICATION-----\n",
      "end:  163191007508217\n"
     ]
    },
    {
     "data": {
      "text/html": [
       "Waiting for W&B process to finish... <strong style=\"color:green\">(success).</strong>"
      ],
      "text/plain": [
       "<IPython.core.display.HTML object>"
      ]
     },
     "metadata": {},
     "output_type": "display_data"
    },
    {
     "data": {
      "text/html": [
       "<style>\n",
       "    table.wandb td:nth-child(1) { padding: 0 10px; text-align: left ; width: auto;} td:nth-child(2) {text-align: left ; width: 100%}\n",
       "    .wandb-row { display: flex; flex-direction: row; flex-wrap: wrap; justify-content: flex-start; width: 100% }\n",
       "    .wandb-col { display: flex; flex-direction: column; flex-basis: 100%; flex: 1; padding: 10px; }\n",
       "    </style>\n",
       "<div class=\"wandb-row\"><div class=\"wandb-col\"><h3>Run history:</h3><br/><table class=\"wandb\"><tr><td>test_acc</td><td>▁</td></tr><tr><td>val_acc</td><td>▁</td></tr></table><br/></div><div class=\"wandb-col\"><h3>Run summary:</h3><br/><table class=\"wandb\"><tr><td>test_acc</td><td>70.3259</td></tr><tr><td>val_acc</td><td>19.53333</td></tr></table><br/></div></div>"
      ],
      "text/plain": [
       "<IPython.core.display.HTML object>"
      ]
     },
     "metadata": {},
     "output_type": "display_data"
    },
    {
     "data": {
      "text/html": [
       "Synced <strong style=\"color:#cdcd00\">icy-sweep-3</strong>: <a href=\"https://wandb.ai/maiquanh/melspec_buzz2_cpu_0708/runs/zbsh31he\" target=\"_blank\">https://wandb.ai/maiquanh/melspec_buzz2_cpu_0708/runs/zbsh31he</a><br/>Synced 6 W&B file(s), 2 media file(s), 2 artifact file(s) and 0 other file(s)"
      ],
      "text/plain": [
       "<IPython.core.display.HTML object>"
      ]
     },
     "metadata": {},
     "output_type": "display_data"
    },
    {
     "data": {
      "text/html": [
       "Find logs at: <code>./wandb/run-20230807_090258-zbsh31he/logs</code>"
      ],
      "text/plain": [
       "<IPython.core.display.HTML object>"
      ]
     },
     "metadata": {},
     "output_type": "display_data"
    },
    {
     "name": "stderr",
     "output_type": "stream",
     "text": [
      "\u001b[34m\u001b[1mwandb\u001b[0m: Sweep Agent: Waiting for job.\n",
      "\u001b[34m\u001b[1mwandb\u001b[0m: Job received.\n",
      "\u001b[34m\u001b[1mwandb\u001b[0m: Agent Starting Run: 48z86xby with config:\n",
      "\u001b[34m\u001b[1mwandb\u001b[0m: \tbatch_size: 128\n",
      "\u001b[34m\u001b[1mwandb\u001b[0m: \td_hidden: 16\n",
      "\u001b[34m\u001b[1mwandb\u001b[0m: \tdata_dir: /home/quanhhh/Documents/model/data_dir/\n",
      "\u001b[34m\u001b[1mwandb\u001b[0m: \tdropout: 0.44887699585077656\n",
      "\u001b[34m\u001b[1mwandb\u001b[0m: \tkernel_size_1: 8\n",
      "\u001b[34m\u001b[1mwandb\u001b[0m: \tkernel_size_2: 11\n",
      "\u001b[34m\u001b[1mwandb\u001b[0m: \tlr: 4.3654798692365594e-05\n",
      "\u001b[34m\u001b[1mwandb\u001b[0m: \tmaxpool_1: 6\n",
      "\u001b[34m\u001b[1mwandb\u001b[0m: \tmaxpool_2: 5\n",
      "\u001b[34m\u001b[1mwandb\u001b[0m: \tnum_epoch: 1\n",
      "\u001b[34m\u001b[1mwandb\u001b[0m: \tnum_filters_1: 43\n",
      "\u001b[34m\u001b[1mwandb\u001b[0m: \tnum_filters_2: 62\n",
      "\u001b[34m\u001b[1mwandb\u001b[0m: \tnum_layers: 4\n",
      "\u001b[34m\u001b[1mwandb\u001b[0m: \tresult_dir: /home/quanhhh/Documents/model/model_spec/results/\n",
      "\u001b[34m\u001b[1mwandb\u001b[0m: \tweight_decay: 0.00032184080039849926\n",
      "Failed to detect the name of this notebook, you can set it manually with the WANDB_NOTEBOOK_NAME environment variable to enable code saving.\n"
     ]
    },
    {
     "data": {
      "text/html": [
       "wandb version 0.15.8 is available!  To upgrade, please run:\n",
       " $ pip install wandb --upgrade"
      ],
      "text/plain": [
       "<IPython.core.display.HTML object>"
      ]
     },
     "metadata": {},
     "output_type": "display_data"
    },
    {
     "data": {
      "text/html": [
       "Tracking run with wandb version 0.13.4"
      ],
      "text/plain": [
       "<IPython.core.display.HTML object>"
      ]
     },
     "metadata": {},
     "output_type": "display_data"
    },
    {
     "data": {
      "text/html": [
       "Run data is saved locally in <code>/home/quanhhh/Documents/model/model_spec/wandb/run-20230807_090559-48z86xby</code>"
      ],
      "text/plain": [
       "<IPython.core.display.HTML object>"
      ]
     },
     "metadata": {},
     "output_type": "display_data"
    },
    {
     "data": {
      "text/html": [
       "Syncing run <strong><a href=\"https://wandb.ai/maiquanh/melspec_buzz2_cpu_0708/runs/48z86xby\" target=\"_blank\">curious-sweep-4</a></strong> to <a href=\"https://wandb.ai/maiquanh/melspec_buzz2_cpu_0708\" target=\"_blank\">Weights & Biases</a> (<a href=\"https://wandb.me/run\" target=\"_blank\">docs</a>)<br/>Sweep page:  <a href=\"https://wandb.ai/maiquanh/melspec_buzz2_cpu_0708/sweeps/smk5hhg0\" target=\"_blank\">https://wandb.ai/maiquanh/melspec_buzz2_cpu_0708/sweeps/smk5hhg0</a>"
      ],
      "text/plain": [
       "<IPython.core.display.HTML object>"
      ]
     },
     "metadata": {},
     "output_type": "display_data"
    },
    {
     "name": "stdout",
     "output_type": "stream",
     "text": [
      "(1, 169, 128)\n",
      "start:  163217127764005\n",
      "-----START TRAINING CLASSIFICATION-----\n",
      "Epoch: 1\t| Train_loss: 0.008643\t|Train accuracy: 39.567396\t| Test_loss: 0.009012\t|Test accuracy: 21.440823\t|Val accuracy: 33.333332 \n",
      "\n",
      "----COMPLETED TRAINING CLASSIFICATION-----\n",
      "end:  163291374034429\n"
     ]
    },
    {
     "data": {
      "text/html": [
       "Waiting for W&B process to finish... <strong style=\"color:green\">(success).</strong>"
      ],
      "text/plain": [
       "<IPython.core.display.HTML object>"
      ]
     },
     "metadata": {},
     "output_type": "display_data"
    },
    {
     "data": {
      "text/html": [
       "<style>\n",
       "    table.wandb td:nth-child(1) { padding: 0 10px; text-align: left ; width: auto;} td:nth-child(2) {text-align: left ; width: 100%}\n",
       "    .wandb-row { display: flex; flex-direction: row; flex-wrap: wrap; justify-content: flex-start; width: 100% }\n",
       "    .wandb-col { display: flex; flex-direction: column; flex-basis: 100%; flex: 1; padding: 10px; }\n",
       "    </style>\n",
       "<div class=\"wandb-row\"><div class=\"wandb-col\"><h3>Run history:</h3><br/><table class=\"wandb\"><tr><td>test_acc</td><td>▁</td></tr><tr><td>val_acc</td><td>▁</td></tr></table><br/></div><div class=\"wandb-col\"><h3>Run summary:</h3><br/><table class=\"wandb\"><tr><td>test_acc</td><td>21.44082</td></tr><tr><td>val_acc</td><td>33.33333</td></tr></table><br/></div></div>"
      ],
      "text/plain": [
       "<IPython.core.display.HTML object>"
      ]
     },
     "metadata": {},
     "output_type": "display_data"
    },
    {
     "data": {
      "text/html": [
       "Synced <strong style=\"color:#cdcd00\">curious-sweep-4</strong>: <a href=\"https://wandb.ai/maiquanh/melspec_buzz2_cpu_0708/runs/48z86xby\" target=\"_blank\">https://wandb.ai/maiquanh/melspec_buzz2_cpu_0708/runs/48z86xby</a><br/>Synced 6 W&B file(s), 2 media file(s), 2 artifact file(s) and 0 other file(s)"
      ],
      "text/plain": [
       "<IPython.core.display.HTML object>"
      ]
     },
     "metadata": {},
     "output_type": "display_data"
    },
    {
     "data": {
      "text/html": [
       "Find logs at: <code>./wandb/run-20230807_090559-48z86xby/logs</code>"
      ],
      "text/plain": [
       "<IPython.core.display.HTML object>"
      ]
     },
     "metadata": {},
     "output_type": "display_data"
    },
    {
     "name": "stderr",
     "output_type": "stream",
     "text": [
      "\u001b[34m\u001b[1mwandb\u001b[0m: Sweep Agent: Waiting for job.\n",
      "\u001b[34m\u001b[1mwandb\u001b[0m: Job received.\n",
      "\u001b[34m\u001b[1mwandb\u001b[0m: Agent Starting Run: v38obc55 with config:\n",
      "\u001b[34m\u001b[1mwandb\u001b[0m: \tbatch_size: 128\n",
      "\u001b[34m\u001b[1mwandb\u001b[0m: \td_hidden: 8\n",
      "\u001b[34m\u001b[1mwandb\u001b[0m: \tdata_dir: /home/quanhhh/Documents/model/data_dir/\n",
      "\u001b[34m\u001b[1mwandb\u001b[0m: \tdropout: 0.5089451066578662\n",
      "\u001b[34m\u001b[1mwandb\u001b[0m: \tkernel_size_1: 4\n",
      "\u001b[34m\u001b[1mwandb\u001b[0m: \tkernel_size_2: 5\n",
      "\u001b[34m\u001b[1mwandb\u001b[0m: \tlr: 0.0013505797547411868\n",
      "\u001b[34m\u001b[1mwandb\u001b[0m: \tmaxpool_1: 8\n",
      "\u001b[34m\u001b[1mwandb\u001b[0m: \tmaxpool_2: 5\n",
      "\u001b[34m\u001b[1mwandb\u001b[0m: \tnum_epoch: 1\n",
      "\u001b[34m\u001b[1mwandb\u001b[0m: \tnum_filters_1: 34\n",
      "\u001b[34m\u001b[1mwandb\u001b[0m: \tnum_filters_2: 23\n",
      "\u001b[34m\u001b[1mwandb\u001b[0m: \tnum_layers: 4\n",
      "\u001b[34m\u001b[1mwandb\u001b[0m: \tresult_dir: /home/quanhhh/Documents/model/model_spec/results/\n",
      "\u001b[34m\u001b[1mwandb\u001b[0m: \tweight_decay: 0.00036336596753428326\n",
      "Failed to detect the name of this notebook, you can set it manually with the WANDB_NOTEBOOK_NAME environment variable to enable code saving.\n"
     ]
    },
    {
     "data": {
      "text/html": [
       "wandb version 0.15.8 is available!  To upgrade, please run:\n",
       " $ pip install wandb --upgrade"
      ],
      "text/plain": [
       "<IPython.core.display.HTML object>"
      ]
     },
     "metadata": {},
     "output_type": "display_data"
    },
    {
     "data": {
      "text/html": [
       "Tracking run with wandb version 0.13.4"
      ],
      "text/plain": [
       "<IPython.core.display.HTML object>"
      ]
     },
     "metadata": {},
     "output_type": "display_data"
    },
    {
     "data": {
      "text/html": [
       "Run data is saved locally in <code>/home/quanhhh/Documents/model/model_spec/wandb/run-20230807_090741-v38obc55</code>"
      ],
      "text/plain": [
       "<IPython.core.display.HTML object>"
      ]
     },
     "metadata": {},
     "output_type": "display_data"
    },
    {
     "data": {
      "text/html": [
       "Syncing run <strong><a href=\"https://wandb.ai/maiquanh/melspec_buzz2_cpu_0708/runs/v38obc55\" target=\"_blank\">quiet-sweep-5</a></strong> to <a href=\"https://wandb.ai/maiquanh/melspec_buzz2_cpu_0708\" target=\"_blank\">Weights & Biases</a> (<a href=\"https://wandb.me/run\" target=\"_blank\">docs</a>)<br/>Sweep page:  <a href=\"https://wandb.ai/maiquanh/melspec_buzz2_cpu_0708/sweeps/smk5hhg0\" target=\"_blank\">https://wandb.ai/maiquanh/melspec_buzz2_cpu_0708/sweeps/smk5hhg0</a>"
      ],
      "text/plain": [
       "<IPython.core.display.HTML object>"
      ]
     },
     "metadata": {},
     "output_type": "display_data"
    },
    {
     "name": "stdout",
     "output_type": "stream",
     "text": [
      "(1, 169, 128)\n",
      "start:  163320005306183\n",
      "-----START TRAINING CLASSIFICATION-----\n",
      "Epoch: 1\t| Train_loss: 0.008306\t|Train accuracy: 71.168557\t| Test_loss: 0.008213\t|Test accuracy: 58.833619\t|Val accuracy: 64.199997 \n",
      "\n",
      "----COMPLETED TRAINING CLASSIFICATION-----\n",
      "end:  163382393177690\n"
     ]
    },
    {
     "data": {
      "text/html": [
       "Waiting for W&B process to finish... <strong style=\"color:green\">(success).</strong>"
      ],
      "text/plain": [
       "<IPython.core.display.HTML object>"
      ]
     },
     "metadata": {},
     "output_type": "display_data"
    },
    {
     "data": {
      "text/html": [
       "<style>\n",
       "    table.wandb td:nth-child(1) { padding: 0 10px; text-align: left ; width: auto;} td:nth-child(2) {text-align: left ; width: 100%}\n",
       "    .wandb-row { display: flex; flex-direction: row; flex-wrap: wrap; justify-content: flex-start; width: 100% }\n",
       "    .wandb-col { display: flex; flex-direction: column; flex-basis: 100%; flex: 1; padding: 10px; }\n",
       "    </style>\n",
       "<div class=\"wandb-row\"><div class=\"wandb-col\"><h3>Run history:</h3><br/><table class=\"wandb\"><tr><td>test_acc</td><td>▁</td></tr><tr><td>val_acc</td><td>▁</td></tr></table><br/></div><div class=\"wandb-col\"><h3>Run summary:</h3><br/><table class=\"wandb\"><tr><td>test_acc</td><td>58.83362</td></tr><tr><td>val_acc</td><td>64.2</td></tr></table><br/></div></div>"
      ],
      "text/plain": [
       "<IPython.core.display.HTML object>"
      ]
     },
     "metadata": {},
     "output_type": "display_data"
    },
    {
     "data": {
      "text/html": [
       "Synced <strong style=\"color:#cdcd00\">quiet-sweep-5</strong>: <a href=\"https://wandb.ai/maiquanh/melspec_buzz2_cpu_0708/runs/v38obc55\" target=\"_blank\">https://wandb.ai/maiquanh/melspec_buzz2_cpu_0708/runs/v38obc55</a><br/>Synced 6 W&B file(s), 2 media file(s), 2 artifact file(s) and 0 other file(s)"
      ],
      "text/plain": [
       "<IPython.core.display.HTML object>"
      ]
     },
     "metadata": {},
     "output_type": "display_data"
    },
    {
     "data": {
      "text/html": [
       "Find logs at: <code>./wandb/run-20230807_090741-v38obc55/logs</code>"
      ],
      "text/plain": [
       "<IPython.core.display.HTML object>"
      ]
     },
     "metadata": {},
     "output_type": "display_data"
    },
    {
     "name": "stderr",
     "output_type": "stream",
     "text": [
      "\u001b[34m\u001b[1mwandb\u001b[0m: Agent Starting Run: iccu3fp6 with config:\n",
      "\u001b[34m\u001b[1mwandb\u001b[0m: \tbatch_size: 128\n",
      "\u001b[34m\u001b[1mwandb\u001b[0m: \td_hidden: 32\n",
      "\u001b[34m\u001b[1mwandb\u001b[0m: \tdata_dir: /home/quanhhh/Documents/model/data_dir/\n",
      "\u001b[34m\u001b[1mwandb\u001b[0m: \tdropout: 0.480514231163294\n",
      "\u001b[34m\u001b[1mwandb\u001b[0m: \tkernel_size_1: 10\n",
      "\u001b[34m\u001b[1mwandb\u001b[0m: \tkernel_size_2: 10\n",
      "\u001b[34m\u001b[1mwandb\u001b[0m: \tlr: 2.158626620087556e-05\n",
      "\u001b[34m\u001b[1mwandb\u001b[0m: \tmaxpool_1: 8\n",
      "\u001b[34m\u001b[1mwandb\u001b[0m: \tmaxpool_2: 4\n",
      "\u001b[34m\u001b[1mwandb\u001b[0m: \tnum_epoch: 1\n",
      "\u001b[34m\u001b[1mwandb\u001b[0m: \tnum_filters_1: 41\n",
      "\u001b[34m\u001b[1mwandb\u001b[0m: \tnum_filters_2: 74\n",
      "\u001b[34m\u001b[1mwandb\u001b[0m: \tnum_layers: 2\n",
      "\u001b[34m\u001b[1mwandb\u001b[0m: \tresult_dir: /home/quanhhh/Documents/model/model_spec/results/\n",
      "\u001b[34m\u001b[1mwandb\u001b[0m: \tweight_decay: 0.00021418278715936456\n",
      "Failed to detect the name of this notebook, you can set it manually with the WANDB_NOTEBOOK_NAME environment variable to enable code saving.\n"
     ]
    },
    {
     "data": {
      "text/html": [
       "wandb version 0.15.8 is available!  To upgrade, please run:\n",
       " $ pip install wandb --upgrade"
      ],
      "text/plain": [
       "<IPython.core.display.HTML object>"
      ]
     },
     "metadata": {},
     "output_type": "display_data"
    },
    {
     "data": {
      "text/html": [
       "Tracking run with wandb version 0.13.4"
      ],
      "text/plain": [
       "<IPython.core.display.HTML object>"
      ]
     },
     "metadata": {},
     "output_type": "display_data"
    },
    {
     "data": {
      "text/html": [
       "Run data is saved locally in <code>/home/quanhhh/Documents/model/model_spec/wandb/run-20230807_090904-iccu3fp6</code>"
      ],
      "text/plain": [
       "<IPython.core.display.HTML object>"
      ]
     },
     "metadata": {},
     "output_type": "display_data"
    },
    {
     "data": {
      "text/html": [
       "Syncing run <strong><a href=\"https://wandb.ai/maiquanh/melspec_buzz2_cpu_0708/runs/iccu3fp6\" target=\"_blank\">atomic-sweep-6</a></strong> to <a href=\"https://wandb.ai/maiquanh/melspec_buzz2_cpu_0708\" target=\"_blank\">Weights & Biases</a> (<a href=\"https://wandb.me/run\" target=\"_blank\">docs</a>)<br/>Sweep page:  <a href=\"https://wandb.ai/maiquanh/melspec_buzz2_cpu_0708/sweeps/smk5hhg0\" target=\"_blank\">https://wandb.ai/maiquanh/melspec_buzz2_cpu_0708/sweeps/smk5hhg0</a>"
      ],
      "text/plain": [
       "<IPython.core.display.HTML object>"
      ]
     },
     "metadata": {},
     "output_type": "display_data"
    },
    {
     "name": "stdout",
     "output_type": "stream",
     "text": [
      "(1, 169, 128)\n",
      "start:  163402378195377\n",
      "-----START TRAINING CLASSIFICATION-----\n",
      "Epoch: 1\t| Train_loss: 0.008661\t|Train accuracy: 31.680295\t| Test_loss: 0.008860\t|Test accuracy: 38.507719\t|Val accuracy: 33.333332 \n",
      "\n",
      "----COMPLETED TRAINING CLASSIFICATION-----\n",
      "end:  163469768060489\n"
     ]
    },
    {
     "data": {
      "text/html": [
       "Waiting for W&B process to finish... <strong style=\"color:green\">(success).</strong>"
      ],
      "text/plain": [
       "<IPython.core.display.HTML object>"
      ]
     },
     "metadata": {},
     "output_type": "display_data"
    },
    {
     "data": {
      "text/html": [
       "<style>\n",
       "    table.wandb td:nth-child(1) { padding: 0 10px; text-align: left ; width: auto;} td:nth-child(2) {text-align: left ; width: 100%}\n",
       "    .wandb-row { display: flex; flex-direction: row; flex-wrap: wrap; justify-content: flex-start; width: 100% }\n",
       "    .wandb-col { display: flex; flex-direction: column; flex-basis: 100%; flex: 1; padding: 10px; }\n",
       "    </style>\n",
       "<div class=\"wandb-row\"><div class=\"wandb-col\"><h3>Run history:</h3><br/><table class=\"wandb\"><tr><td>test_acc</td><td>▁</td></tr><tr><td>val_acc</td><td>▁</td></tr></table><br/></div><div class=\"wandb-col\"><h3>Run summary:</h3><br/><table class=\"wandb\"><tr><td>test_acc</td><td>38.50772</td></tr><tr><td>val_acc</td><td>33.33333</td></tr></table><br/></div></div>"
      ],
      "text/plain": [
       "<IPython.core.display.HTML object>"
      ]
     },
     "metadata": {},
     "output_type": "display_data"
    },
    {
     "data": {
      "text/html": [
       "Synced <strong style=\"color:#cdcd00\">atomic-sweep-6</strong>: <a href=\"https://wandb.ai/maiquanh/melspec_buzz2_cpu_0708/runs/iccu3fp6\" target=\"_blank\">https://wandb.ai/maiquanh/melspec_buzz2_cpu_0708/runs/iccu3fp6</a><br/>Synced 6 W&B file(s), 2 media file(s), 2 artifact file(s) and 0 other file(s)"
      ],
      "text/plain": [
       "<IPython.core.display.HTML object>"
      ]
     },
     "metadata": {},
     "output_type": "display_data"
    },
    {
     "data": {
      "text/html": [
       "Find logs at: <code>./wandb/run-20230807_090904-iccu3fp6/logs</code>"
      ],
      "text/plain": [
       "<IPython.core.display.HTML object>"
      ]
     },
     "metadata": {},
     "output_type": "display_data"
    },
    {
     "name": "stderr",
     "output_type": "stream",
     "text": [
      "\u001b[34m\u001b[1mwandb\u001b[0m: Agent Starting Run: iq4mqngy with config:\n",
      "\u001b[34m\u001b[1mwandb\u001b[0m: \tbatch_size: 128\n",
      "\u001b[34m\u001b[1mwandb\u001b[0m: \td_hidden: 4\n",
      "\u001b[34m\u001b[1mwandb\u001b[0m: \tdata_dir: /home/quanhhh/Documents/model/data_dir/\n",
      "\u001b[34m\u001b[1mwandb\u001b[0m: \tdropout: 0.5939986169591275\n",
      "\u001b[34m\u001b[1mwandb\u001b[0m: \tkernel_size_1: 3\n",
      "\u001b[34m\u001b[1mwandb\u001b[0m: \tkernel_size_2: 11\n",
      "\u001b[34m\u001b[1mwandb\u001b[0m: \tlr: 1.8803376142803132e-05\n",
      "\u001b[34m\u001b[1mwandb\u001b[0m: \tmaxpool_1: 7\n",
      "\u001b[34m\u001b[1mwandb\u001b[0m: \tmaxpool_2: 5\n",
      "\u001b[34m\u001b[1mwandb\u001b[0m: \tnum_epoch: 1\n",
      "\u001b[34m\u001b[1mwandb\u001b[0m: \tnum_filters_1: 42\n",
      "\u001b[34m\u001b[1mwandb\u001b[0m: \tnum_filters_2: 25\n",
      "\u001b[34m\u001b[1mwandb\u001b[0m: \tnum_layers: 3\n",
      "\u001b[34m\u001b[1mwandb\u001b[0m: \tresult_dir: /home/quanhhh/Documents/model/model_spec/results/\n",
      "\u001b[34m\u001b[1mwandb\u001b[0m: \tweight_decay: 0.00011688804776931468\n",
      "Failed to detect the name of this notebook, you can set it manually with the WANDB_NOTEBOOK_NAME environment variable to enable code saving.\n"
     ]
    },
    {
     "data": {
      "text/html": [
       "wandb version 0.15.8 is available!  To upgrade, please run:\n",
       " $ pip install wandb --upgrade"
      ],
      "text/plain": [
       "<IPython.core.display.HTML object>"
      ]
     },
     "metadata": {},
     "output_type": "display_data"
    },
    {
     "data": {
      "text/html": [
       "Tracking run with wandb version 0.13.4"
      ],
      "text/plain": [
       "<IPython.core.display.HTML object>"
      ]
     },
     "metadata": {},
     "output_type": "display_data"
    },
    {
     "data": {
      "text/html": [
       "Run data is saved locally in <code>/home/quanhhh/Documents/model/model_spec/wandb/run-20230807_091030-iq4mqngy</code>"
      ],
      "text/plain": [
       "<IPython.core.display.HTML object>"
      ]
     },
     "metadata": {},
     "output_type": "display_data"
    },
    {
     "data": {
      "text/html": [
       "Syncing run <strong><a href=\"https://wandb.ai/maiquanh/melspec_buzz2_cpu_0708/runs/iq4mqngy\" target=\"_blank\">honest-sweep-7</a></strong> to <a href=\"https://wandb.ai/maiquanh/melspec_buzz2_cpu_0708\" target=\"_blank\">Weights & Biases</a> (<a href=\"https://wandb.me/run\" target=\"_blank\">docs</a>)<br/>Sweep page:  <a href=\"https://wandb.ai/maiquanh/melspec_buzz2_cpu_0708/sweeps/smk5hhg0\" target=\"_blank\">https://wandb.ai/maiquanh/melspec_buzz2_cpu_0708/sweeps/smk5hhg0</a>"
      ],
      "text/plain": [
       "<IPython.core.display.HTML object>"
      ]
     },
     "metadata": {},
     "output_type": "display_data"
    },
    {
     "name": "stdout",
     "output_type": "stream",
     "text": [
      "(1, 169, 128)\n",
      "start:  163488328104882\n",
      "-----START TRAINING CLASSIFICATION-----\n",
      "Epoch: 1\t| Train_loss: 0.008694\t|Train accuracy: 31.680295\t| Test_loss: 0.008971\t|Test accuracy: 38.507719\t|Val accuracy: 33.333332 \n",
      "\n",
      "----COMPLETED TRAINING CLASSIFICATION-----\n",
      "end:  163547652533888\n"
     ]
    },
    {
     "data": {
      "text/html": [
       "Waiting for W&B process to finish... <strong style=\"color:green\">(success).</strong>"
      ],
      "text/plain": [
       "<IPython.core.display.HTML object>"
      ]
     },
     "metadata": {},
     "output_type": "display_data"
    },
    {
     "data": {
      "text/html": [
       "<style>\n",
       "    table.wandb td:nth-child(1) { padding: 0 10px; text-align: left ; width: auto;} td:nth-child(2) {text-align: left ; width: 100%}\n",
       "    .wandb-row { display: flex; flex-direction: row; flex-wrap: wrap; justify-content: flex-start; width: 100% }\n",
       "    .wandb-col { display: flex; flex-direction: column; flex-basis: 100%; flex: 1; padding: 10px; }\n",
       "    </style>\n",
       "<div class=\"wandb-row\"><div class=\"wandb-col\"><h3>Run history:</h3><br/><table class=\"wandb\"><tr><td>test_acc</td><td>▁</td></tr><tr><td>val_acc</td><td>▁</td></tr></table><br/></div><div class=\"wandb-col\"><h3>Run summary:</h3><br/><table class=\"wandb\"><tr><td>test_acc</td><td>38.50772</td></tr><tr><td>val_acc</td><td>33.33333</td></tr></table><br/></div></div>"
      ],
      "text/plain": [
       "<IPython.core.display.HTML object>"
      ]
     },
     "metadata": {},
     "output_type": "display_data"
    },
    {
     "data": {
      "text/html": [
       "Synced <strong style=\"color:#cdcd00\">honest-sweep-7</strong>: <a href=\"https://wandb.ai/maiquanh/melspec_buzz2_cpu_0708/runs/iq4mqngy\" target=\"_blank\">https://wandb.ai/maiquanh/melspec_buzz2_cpu_0708/runs/iq4mqngy</a><br/>Synced 6 W&B file(s), 2 media file(s), 2 artifact file(s) and 0 other file(s)"
      ],
      "text/plain": [
       "<IPython.core.display.HTML object>"
      ]
     },
     "metadata": {},
     "output_type": "display_data"
    },
    {
     "data": {
      "text/html": [
       "Find logs at: <code>./wandb/run-20230807_091030-iq4mqngy/logs</code>"
      ],
      "text/plain": [
       "<IPython.core.display.HTML object>"
      ]
     },
     "metadata": {},
     "output_type": "display_data"
    },
    {
     "name": "stderr",
     "output_type": "stream",
     "text": [
      "\u001b[34m\u001b[1mwandb\u001b[0m: Agent Starting Run: yhafo1k7 with config:\n",
      "\u001b[34m\u001b[1mwandb\u001b[0m: \tbatch_size: 128\n",
      "\u001b[34m\u001b[1mwandb\u001b[0m: \td_hidden: 4\n",
      "\u001b[34m\u001b[1mwandb\u001b[0m: \tdata_dir: /home/quanhhh/Documents/model/data_dir/\n",
      "\u001b[34m\u001b[1mwandb\u001b[0m: \tdropout: 0.4766303655029749\n",
      "\u001b[34m\u001b[1mwandb\u001b[0m: \tkernel_size_1: 10\n",
      "\u001b[34m\u001b[1mwandb\u001b[0m: \tkernel_size_2: 10\n",
      "\u001b[34m\u001b[1mwandb\u001b[0m: \tlr: 5.65494001813344e-05\n",
      "\u001b[34m\u001b[1mwandb\u001b[0m: \tmaxpool_1: 8\n",
      "\u001b[34m\u001b[1mwandb\u001b[0m: \tmaxpool_2: 4\n",
      "\u001b[34m\u001b[1mwandb\u001b[0m: \tnum_epoch: 1\n",
      "\u001b[34m\u001b[1mwandb\u001b[0m: \tnum_filters_1: 59\n",
      "\u001b[34m\u001b[1mwandb\u001b[0m: \tnum_filters_2: 66\n",
      "\u001b[34m\u001b[1mwandb\u001b[0m: \tnum_layers: 2\n",
      "\u001b[34m\u001b[1mwandb\u001b[0m: \tresult_dir: /home/quanhhh/Documents/model/model_spec/results/\n",
      "\u001b[34m\u001b[1mwandb\u001b[0m: \tweight_decay: 0.000187921618896236\n",
      "Failed to detect the name of this notebook, you can set it manually with the WANDB_NOTEBOOK_NAME environment variable to enable code saving.\n"
     ]
    },
    {
     "data": {
      "text/html": [
       "wandb version 0.15.8 is available!  To upgrade, please run:\n",
       " $ pip install wandb --upgrade"
      ],
      "text/plain": [
       "<IPython.core.display.HTML object>"
      ]
     },
     "metadata": {},
     "output_type": "display_data"
    },
    {
     "data": {
      "text/html": [
       "Tracking run with wandb version 0.13.4"
      ],
      "text/plain": [
       "<IPython.core.display.HTML object>"
      ]
     },
     "metadata": {},
     "output_type": "display_data"
    },
    {
     "data": {
      "text/html": [
       "Run data is saved locally in <code>/home/quanhhh/Documents/model/model_spec/wandb/run-20230807_091151-yhafo1k7</code>"
      ],
      "text/plain": [
       "<IPython.core.display.HTML object>"
      ]
     },
     "metadata": {},
     "output_type": "display_data"
    },
    {
     "data": {
      "text/html": [
       "Syncing run <strong><a href=\"https://wandb.ai/maiquanh/melspec_buzz2_cpu_0708/runs/yhafo1k7\" target=\"_blank\">curious-sweep-8</a></strong> to <a href=\"https://wandb.ai/maiquanh/melspec_buzz2_cpu_0708\" target=\"_blank\">Weights & Biases</a> (<a href=\"https://wandb.me/run\" target=\"_blank\">docs</a>)<br/>Sweep page:  <a href=\"https://wandb.ai/maiquanh/melspec_buzz2_cpu_0708/sweeps/smk5hhg0\" target=\"_blank\">https://wandb.ai/maiquanh/melspec_buzz2_cpu_0708/sweeps/smk5hhg0</a>"
      ],
      "text/plain": [
       "<IPython.core.display.HTML object>"
      ]
     },
     "metadata": {},
     "output_type": "display_data"
    },
    {
     "name": "stdout",
     "output_type": "stream",
     "text": [
      "(1, 169, 128)\n",
      "start:  163569115085184\n",
      "-----START TRAINING CLASSIFICATION-----\n",
      "Epoch: 1\t| Train_loss: 0.008782\t|Train accuracy: 28.752308\t| Test_loss: 0.008723\t|Test accuracy: 40.051458\t|Val accuracy: 33.333332 \n",
      "\n",
      "----COMPLETED TRAINING CLASSIFICATION-----\n",
      "end:  163672162681040\n"
     ]
    },
    {
     "data": {
      "text/html": [
       "Waiting for W&B process to finish... <strong style=\"color:green\">(success).</strong>"
      ],
      "text/plain": [
       "<IPython.core.display.HTML object>"
      ]
     },
     "metadata": {},
     "output_type": "display_data"
    },
    {
     "data": {
      "text/html": [
       "<style>\n",
       "    table.wandb td:nth-child(1) { padding: 0 10px; text-align: left ; width: auto;} td:nth-child(2) {text-align: left ; width: 100%}\n",
       "    .wandb-row { display: flex; flex-direction: row; flex-wrap: wrap; justify-content: flex-start; width: 100% }\n",
       "    .wandb-col { display: flex; flex-direction: column; flex-basis: 100%; flex: 1; padding: 10px; }\n",
       "    </style>\n",
       "<div class=\"wandb-row\"><div class=\"wandb-col\"><h3>Run history:</h3><br/><table class=\"wandb\"><tr><td>test_acc</td><td>▁</td></tr><tr><td>val_acc</td><td>▁</td></tr></table><br/></div><div class=\"wandb-col\"><h3>Run summary:</h3><br/><table class=\"wandb\"><tr><td>test_acc</td><td>40.05146</td></tr><tr><td>val_acc</td><td>33.33333</td></tr></table><br/></div></div>"
      ],
      "text/plain": [
       "<IPython.core.display.HTML object>"
      ]
     },
     "metadata": {},
     "output_type": "display_data"
    },
    {
     "data": {
      "text/html": [
       "Synced <strong style=\"color:#cdcd00\">curious-sweep-8</strong>: <a href=\"https://wandb.ai/maiquanh/melspec_buzz2_cpu_0708/runs/yhafo1k7\" target=\"_blank\">https://wandb.ai/maiquanh/melspec_buzz2_cpu_0708/runs/yhafo1k7</a><br/>Synced 6 W&B file(s), 2 media file(s), 2 artifact file(s) and 0 other file(s)"
      ],
      "text/plain": [
       "<IPython.core.display.HTML object>"
      ]
     },
     "metadata": {},
     "output_type": "display_data"
    },
    {
     "data": {
      "text/html": [
       "Find logs at: <code>./wandb/run-20230807_091151-yhafo1k7/logs</code>"
      ],
      "text/plain": [
       "<IPython.core.display.HTML object>"
      ]
     },
     "metadata": {},
     "output_type": "display_data"
    },
    {
     "name": "stderr",
     "output_type": "stream",
     "text": [
      "\u001b[34m\u001b[1mwandb\u001b[0m: Agent Starting Run: 8ln5njny with config:\n",
      "\u001b[34m\u001b[1mwandb\u001b[0m: \tbatch_size: 128\n",
      "\u001b[34m\u001b[1mwandb\u001b[0m: \td_hidden: 32\n",
      "\u001b[34m\u001b[1mwandb\u001b[0m: \tdata_dir: /home/quanhhh/Documents/model/data_dir/\n",
      "\u001b[34m\u001b[1mwandb\u001b[0m: \tdropout: 0.1558454958793816\n",
      "\u001b[34m\u001b[1mwandb\u001b[0m: \tkernel_size_1: 6\n",
      "\u001b[34m\u001b[1mwandb\u001b[0m: \tkernel_size_2: 6\n",
      "\u001b[34m\u001b[1mwandb\u001b[0m: \tlr: 1.1993662695247063e-05\n",
      "\u001b[34m\u001b[1mwandb\u001b[0m: \tmaxpool_1: 7\n",
      "\u001b[34m\u001b[1mwandb\u001b[0m: \tmaxpool_2: 5\n",
      "\u001b[34m\u001b[1mwandb\u001b[0m: \tnum_epoch: 1\n",
      "\u001b[34m\u001b[1mwandb\u001b[0m: \tnum_filters_1: 80\n",
      "\u001b[34m\u001b[1mwandb\u001b[0m: \tnum_filters_2: 52\n",
      "\u001b[34m\u001b[1mwandb\u001b[0m: \tnum_layers: 2\n",
      "\u001b[34m\u001b[1mwandb\u001b[0m: \tresult_dir: /home/quanhhh/Documents/model/model_spec/results/\n",
      "\u001b[34m\u001b[1mwandb\u001b[0m: \tweight_decay: 0.00011281879146856314\n",
      "Failed to detect the name of this notebook, you can set it manually with the WANDB_NOTEBOOK_NAME environment variable to enable code saving.\n"
     ]
    },
    {
     "data": {
      "text/html": [
       "wandb version 0.15.8 is available!  To upgrade, please run:\n",
       " $ pip install wandb --upgrade"
      ],
      "text/plain": [
       "<IPython.core.display.HTML object>"
      ]
     },
     "metadata": {},
     "output_type": "display_data"
    },
    {
     "data": {
      "text/html": [
       "Tracking run with wandb version 0.13.4"
      ],
      "text/plain": [
       "<IPython.core.display.HTML object>"
      ]
     },
     "metadata": {},
     "output_type": "display_data"
    },
    {
     "data": {
      "text/html": [
       "Run data is saved locally in <code>/home/quanhhh/Documents/model/model_spec/wandb/run-20230807_091354-8ln5njny</code>"
      ],
      "text/plain": [
       "<IPython.core.display.HTML object>"
      ]
     },
     "metadata": {},
     "output_type": "display_data"
    },
    {
     "data": {
      "text/html": [
       "Syncing run <strong><a href=\"https://wandb.ai/maiquanh/melspec_buzz2_cpu_0708/runs/8ln5njny\" target=\"_blank\">desert-sweep-9</a></strong> to <a href=\"https://wandb.ai/maiquanh/melspec_buzz2_cpu_0708\" target=\"_blank\">Weights & Biases</a> (<a href=\"https://wandb.me/run\" target=\"_blank\">docs</a>)<br/>Sweep page:  <a href=\"https://wandb.ai/maiquanh/melspec_buzz2_cpu_0708/sweeps/smk5hhg0\" target=\"_blank\">https://wandb.ai/maiquanh/melspec_buzz2_cpu_0708/sweeps/smk5hhg0</a>"
      ],
      "text/plain": [
       "<IPython.core.display.HTML object>"
      ]
     },
     "metadata": {},
     "output_type": "display_data"
    },
    {
     "name": "stdout",
     "output_type": "stream",
     "text": [
      "(1, 169, 128)\n",
      "start:  163692641461784\n",
      "-----START TRAINING CLASSIFICATION-----\n",
      "Epoch: 1\t| Train_loss: 0.008770\t|Train accuracy: 28.752308\t| Test_loss: 0.008928\t|Test accuracy: 40.051458\t|Val accuracy: 33.333332 \n",
      "\n",
      "----COMPLETED TRAINING CLASSIFICATION-----\n",
      "end:  163800510803812\n"
     ]
    },
    {
     "data": {
      "text/html": [
       "Waiting for W&B process to finish... <strong style=\"color:green\">(success).</strong>"
      ],
      "text/plain": [
       "<IPython.core.display.HTML object>"
      ]
     },
     "metadata": {},
     "output_type": "display_data"
    },
    {
     "data": {
      "text/html": [
       "<style>\n",
       "    table.wandb td:nth-child(1) { padding: 0 10px; text-align: left ; width: auto;} td:nth-child(2) {text-align: left ; width: 100%}\n",
       "    .wandb-row { display: flex; flex-direction: row; flex-wrap: wrap; justify-content: flex-start; width: 100% }\n",
       "    .wandb-col { display: flex; flex-direction: column; flex-basis: 100%; flex: 1; padding: 10px; }\n",
       "    </style>\n",
       "<div class=\"wandb-row\"><div class=\"wandb-col\"><h3>Run history:</h3><br/><table class=\"wandb\"><tr><td>test_acc</td><td>▁</td></tr><tr><td>val_acc</td><td>▁</td></tr></table><br/></div><div class=\"wandb-col\"><h3>Run summary:</h3><br/><table class=\"wandb\"><tr><td>test_acc</td><td>40.05146</td></tr><tr><td>val_acc</td><td>33.33333</td></tr></table><br/></div></div>"
      ],
      "text/plain": [
       "<IPython.core.display.HTML object>"
      ]
     },
     "metadata": {},
     "output_type": "display_data"
    },
    {
     "data": {
      "text/html": [
       "Synced <strong style=\"color:#cdcd00\">desert-sweep-9</strong>: <a href=\"https://wandb.ai/maiquanh/melspec_buzz2_cpu_0708/runs/8ln5njny\" target=\"_blank\">https://wandb.ai/maiquanh/melspec_buzz2_cpu_0708/runs/8ln5njny</a><br/>Synced 6 W&B file(s), 2 media file(s), 2 artifact file(s) and 0 other file(s)"
      ],
      "text/plain": [
       "<IPython.core.display.HTML object>"
      ]
     },
     "metadata": {},
     "output_type": "display_data"
    },
    {
     "data": {
      "text/html": [
       "Find logs at: <code>./wandb/run-20230807_091354-8ln5njny/logs</code>"
      ],
      "text/plain": [
       "<IPython.core.display.HTML object>"
      ]
     },
     "metadata": {},
     "output_type": "display_data"
    },
    {
     "name": "stderr",
     "output_type": "stream",
     "text": [
      "\u001b[34m\u001b[1mwandb\u001b[0m: Agent Starting Run: oep6ktlw with config:\n",
      "\u001b[34m\u001b[1mwandb\u001b[0m: \tbatch_size: 128\n",
      "\u001b[34m\u001b[1mwandb\u001b[0m: \td_hidden: 32\n",
      "\u001b[34m\u001b[1mwandb\u001b[0m: \tdata_dir: /home/quanhhh/Documents/model/data_dir/\n",
      "\u001b[34m\u001b[1mwandb\u001b[0m: \tdropout: 0.07410110804873371\n",
      "\u001b[34m\u001b[1mwandb\u001b[0m: \tkernel_size_1: 6\n",
      "\u001b[34m\u001b[1mwandb\u001b[0m: \tkernel_size_2: 5\n",
      "\u001b[34m\u001b[1mwandb\u001b[0m: \tlr: 0.0017979210204746505\n",
      "\u001b[34m\u001b[1mwandb\u001b[0m: \tmaxpool_1: 3\n",
      "\u001b[34m\u001b[1mwandb\u001b[0m: \tmaxpool_2: 4\n",
      "\u001b[34m\u001b[1mwandb\u001b[0m: \tnum_epoch: 1\n",
      "\u001b[34m\u001b[1mwandb\u001b[0m: \tnum_filters_1: 75\n",
      "\u001b[34m\u001b[1mwandb\u001b[0m: \tnum_filters_2: 69\n",
      "\u001b[34m\u001b[1mwandb\u001b[0m: \tnum_layers: 3\n",
      "\u001b[34m\u001b[1mwandb\u001b[0m: \tresult_dir: /home/quanhhh/Documents/model/model_spec/results/\n",
      "\u001b[34m\u001b[1mwandb\u001b[0m: \tweight_decay: 0.0001955078916952406\n",
      "Failed to detect the name of this notebook, you can set it manually with the WANDB_NOTEBOOK_NAME environment variable to enable code saving.\n"
     ]
    },
    {
     "data": {
      "text/html": [
       "wandb version 0.15.8 is available!  To upgrade, please run:\n",
       " $ pip install wandb --upgrade"
      ],
      "text/plain": [
       "<IPython.core.display.HTML object>"
      ]
     },
     "metadata": {},
     "output_type": "display_data"
    },
    {
     "data": {
      "text/html": [
       "Tracking run with wandb version 0.13.4"
      ],
      "text/plain": [
       "<IPython.core.display.HTML object>"
      ]
     },
     "metadata": {},
     "output_type": "display_data"
    },
    {
     "data": {
      "text/html": [
       "Run data is saved locally in <code>/home/quanhhh/Documents/model/model_spec/wandb/run-20230807_091603-oep6ktlw</code>"
      ],
      "text/plain": [
       "<IPython.core.display.HTML object>"
      ]
     },
     "metadata": {},
     "output_type": "display_data"
    },
    {
     "data": {
      "text/html": [
       "Syncing run <strong><a href=\"https://wandb.ai/maiquanh/melspec_buzz2_cpu_0708/runs/oep6ktlw\" target=\"_blank\">super-sweep-10</a></strong> to <a href=\"https://wandb.ai/maiquanh/melspec_buzz2_cpu_0708\" target=\"_blank\">Weights & Biases</a> (<a href=\"https://wandb.me/run\" target=\"_blank\">docs</a>)<br/>Sweep page:  <a href=\"https://wandb.ai/maiquanh/melspec_buzz2_cpu_0708/sweeps/smk5hhg0\" target=\"_blank\">https://wandb.ai/maiquanh/melspec_buzz2_cpu_0708/sweeps/smk5hhg0</a>"
      ],
      "text/plain": [
       "<IPython.core.display.HTML object>"
      ]
     },
     "metadata": {},
     "output_type": "display_data"
    },
    {
     "name": "stdout",
     "output_type": "stream",
     "text": [
      "(1, 169, 128)\n",
      "start:  163822293169366\n",
      "-----START TRAINING CLASSIFICATION-----\n",
      "Epoch: 1\t| Train_loss: 0.005900\t|Train accuracy: 77.248747\t| Test_loss: 0.006937\t|Test accuracy: 66.466552\t|Val accuracy: 66.533333 \n",
      "\n",
      "----COMPLETED TRAINING CLASSIFICATION-----\n",
      "end:  163966575228647\n"
     ]
    },
    {
     "data": {
      "text/html": [
       "Waiting for W&B process to finish... <strong style=\"color:green\">(success).</strong>"
      ],
      "text/plain": [
       "<IPython.core.display.HTML object>"
      ]
     },
     "metadata": {},
     "output_type": "display_data"
    },
    {
     "data": {
      "text/html": [
       "<style>\n",
       "    table.wandb td:nth-child(1) { padding: 0 10px; text-align: left ; width: auto;} td:nth-child(2) {text-align: left ; width: 100%}\n",
       "    .wandb-row { display: flex; flex-direction: row; flex-wrap: wrap; justify-content: flex-start; width: 100% }\n",
       "    .wandb-col { display: flex; flex-direction: column; flex-basis: 100%; flex: 1; padding: 10px; }\n",
       "    </style>\n",
       "<div class=\"wandb-row\"><div class=\"wandb-col\"><h3>Run history:</h3><br/><table class=\"wandb\"><tr><td>test_acc</td><td>▁</td></tr><tr><td>val_acc</td><td>▁</td></tr></table><br/></div><div class=\"wandb-col\"><h3>Run summary:</h3><br/><table class=\"wandb\"><tr><td>test_acc</td><td>66.46655</td></tr><tr><td>val_acc</td><td>66.53333</td></tr></table><br/></div></div>"
      ],
      "text/plain": [
       "<IPython.core.display.HTML object>"
      ]
     },
     "metadata": {},
     "output_type": "display_data"
    },
    {
     "data": {
      "text/html": [
       "Synced <strong style=\"color:#cdcd00\">super-sweep-10</strong>: <a href=\"https://wandb.ai/maiquanh/melspec_buzz2_cpu_0708/runs/oep6ktlw\" target=\"_blank\">https://wandb.ai/maiquanh/melspec_buzz2_cpu_0708/runs/oep6ktlw</a><br/>Synced 6 W&B file(s), 2 media file(s), 2 artifact file(s) and 0 other file(s)"
      ],
      "text/plain": [
       "<IPython.core.display.HTML object>"
      ]
     },
     "metadata": {},
     "output_type": "display_data"
    },
    {
     "data": {
      "text/html": [
       "Find logs at: <code>./wandb/run-20230807_091603-oep6ktlw/logs</code>"
      ],
      "text/plain": [
       "<IPython.core.display.HTML object>"
      ]
     },
     "metadata": {},
     "output_type": "display_data"
    },
    {
     "name": "stderr",
     "output_type": "stream",
     "text": [
      "\u001b[34m\u001b[1mwandb\u001b[0m: Agent Starting Run: h4fi7gf3 with config:\n",
      "\u001b[34m\u001b[1mwandb\u001b[0m: \tbatch_size: 128\n",
      "\u001b[34m\u001b[1mwandb\u001b[0m: \td_hidden: 64\n",
      "\u001b[34m\u001b[1mwandb\u001b[0m: \tdata_dir: /home/quanhhh/Documents/model/data_dir/\n",
      "\u001b[34m\u001b[1mwandb\u001b[0m: \tdropout: 0.1722821808571211\n",
      "\u001b[34m\u001b[1mwandb\u001b[0m: \tkernel_size_1: 3\n",
      "\u001b[34m\u001b[1mwandb\u001b[0m: \tkernel_size_2: 10\n",
      "\u001b[34m\u001b[1mwandb\u001b[0m: \tlr: 0.00032960281766747016\n",
      "\u001b[34m\u001b[1mwandb\u001b[0m: \tmaxpool_1: 7\n",
      "\u001b[34m\u001b[1mwandb\u001b[0m: \tmaxpool_2: 7\n",
      "\u001b[34m\u001b[1mwandb\u001b[0m: \tnum_epoch: 1\n",
      "\u001b[34m\u001b[1mwandb\u001b[0m: \tnum_filters_1: 60\n",
      "\u001b[34m\u001b[1mwandb\u001b[0m: \tnum_filters_2: 71\n",
      "\u001b[34m\u001b[1mwandb\u001b[0m: \tnum_layers: 3\n",
      "\u001b[34m\u001b[1mwandb\u001b[0m: \tresult_dir: /home/quanhhh/Documents/model/model_spec/results/\n",
      "\u001b[34m\u001b[1mwandb\u001b[0m: \tweight_decay: 0.0004088406778045437\n",
      "Failed to detect the name of this notebook, you can set it manually with the WANDB_NOTEBOOK_NAME environment variable to enable code saving.\n"
     ]
    },
    {
     "data": {
      "text/html": [
       "wandb version 0.15.8 is available!  To upgrade, please run:\n",
       " $ pip install wandb --upgrade"
      ],
      "text/plain": [
       "<IPython.core.display.HTML object>"
      ]
     },
     "metadata": {},
     "output_type": "display_data"
    },
    {
     "data": {
      "text/html": [
       "Tracking run with wandb version 0.13.4"
      ],
      "text/plain": [
       "<IPython.core.display.HTML object>"
      ]
     },
     "metadata": {},
     "output_type": "display_data"
    },
    {
     "data": {
      "text/html": [
       "Run data is saved locally in <code>/home/quanhhh/Documents/model/model_spec/wandb/run-20230807_091849-h4fi7gf3</code>"
      ],
      "text/plain": [
       "<IPython.core.display.HTML object>"
      ]
     },
     "metadata": {},
     "output_type": "display_data"
    },
    {
     "data": {
      "text/html": [
       "Syncing run <strong><a href=\"https://wandb.ai/maiquanh/melspec_buzz2_cpu_0708/runs/h4fi7gf3\" target=\"_blank\">logical-sweep-11</a></strong> to <a href=\"https://wandb.ai/maiquanh/melspec_buzz2_cpu_0708\" target=\"_blank\">Weights & Biases</a> (<a href=\"https://wandb.me/run\" target=\"_blank\">docs</a>)<br/>Sweep page:  <a href=\"https://wandb.ai/maiquanh/melspec_buzz2_cpu_0708/sweeps/smk5hhg0\" target=\"_blank\">https://wandb.ai/maiquanh/melspec_buzz2_cpu_0708/sweeps/smk5hhg0</a>"
      ],
      "text/plain": [
       "<IPython.core.display.HTML object>"
      ]
     },
     "metadata": {},
     "output_type": "display_data"
    },
    {
     "name": "stdout",
     "output_type": "stream",
     "text": [
      "(1, 169, 128)\n",
      "start:  163987694765761\n",
      "-----START TRAINING CLASSIFICATION-----\n",
      "Epoch: 1\t| Train_loss: 0.008330\t|Train accuracy: 67.488789\t| Test_loss: 0.008347\t|Test accuracy: 57.418525\t|Val accuracy: 66.666664 \n",
      "\n",
      "----COMPLETED TRAINING CLASSIFICATION-----\n",
      "end:  164082396647817\n"
     ]
    },
    {
     "data": {
      "text/html": [
       "Waiting for W&B process to finish... <strong style=\"color:green\">(success).</strong>"
      ],
      "text/plain": [
       "<IPython.core.display.HTML object>"
      ]
     },
     "metadata": {},
     "output_type": "display_data"
    },
    {
     "data": {
      "text/html": [
       "<style>\n",
       "    table.wandb td:nth-child(1) { padding: 0 10px; text-align: left ; width: auto;} td:nth-child(2) {text-align: left ; width: 100%}\n",
       "    .wandb-row { display: flex; flex-direction: row; flex-wrap: wrap; justify-content: flex-start; width: 100% }\n",
       "    .wandb-col { display: flex; flex-direction: column; flex-basis: 100%; flex: 1; padding: 10px; }\n",
       "    </style>\n",
       "<div class=\"wandb-row\"><div class=\"wandb-col\"><h3>Run history:</h3><br/><table class=\"wandb\"><tr><td>test_acc</td><td>▁</td></tr><tr><td>val_acc</td><td>▁</td></tr></table><br/></div><div class=\"wandb-col\"><h3>Run summary:</h3><br/><table class=\"wandb\"><tr><td>test_acc</td><td>57.41852</td></tr><tr><td>val_acc</td><td>66.66666</td></tr></table><br/></div></div>"
      ],
      "text/plain": [
       "<IPython.core.display.HTML object>"
      ]
     },
     "metadata": {},
     "output_type": "display_data"
    },
    {
     "data": {
      "text/html": [
       "Synced <strong style=\"color:#cdcd00\">logical-sweep-11</strong>: <a href=\"https://wandb.ai/maiquanh/melspec_buzz2_cpu_0708/runs/h4fi7gf3\" target=\"_blank\">https://wandb.ai/maiquanh/melspec_buzz2_cpu_0708/runs/h4fi7gf3</a><br/>Synced 6 W&B file(s), 2 media file(s), 2 artifact file(s) and 0 other file(s)"
      ],
      "text/plain": [
       "<IPython.core.display.HTML object>"
      ]
     },
     "metadata": {},
     "output_type": "display_data"
    },
    {
     "data": {
      "text/html": [
       "Find logs at: <code>./wandb/run-20230807_091849-h4fi7gf3/logs</code>"
      ],
      "text/plain": [
       "<IPython.core.display.HTML object>"
      ]
     },
     "metadata": {},
     "output_type": "display_data"
    },
    {
     "name": "stderr",
     "output_type": "stream",
     "text": [
      "\u001b[34m\u001b[1mwandb\u001b[0m: Sweep Agent: Waiting for job.\n",
      "\u001b[34m\u001b[1mwandb\u001b[0m: Job received.\n",
      "\u001b[34m\u001b[1mwandb\u001b[0m: Agent Starting Run: 8aql5s2c with config:\n",
      "\u001b[34m\u001b[1mwandb\u001b[0m: \tbatch_size: 128\n",
      "\u001b[34m\u001b[1mwandb\u001b[0m: \td_hidden: 32\n",
      "\u001b[34m\u001b[1mwandb\u001b[0m: \tdata_dir: /home/quanhhh/Documents/model/data_dir/\n",
      "\u001b[34m\u001b[1mwandb\u001b[0m: \tdropout: 0.1963215734347349\n",
      "\u001b[34m\u001b[1mwandb\u001b[0m: \tkernel_size_1: 9\n",
      "\u001b[34m\u001b[1mwandb\u001b[0m: \tkernel_size_2: 5\n",
      "\u001b[34m\u001b[1mwandb\u001b[0m: \tlr: 0.0006739201813247945\n",
      "\u001b[34m\u001b[1mwandb\u001b[0m: \tmaxpool_1: 3\n",
      "\u001b[34m\u001b[1mwandb\u001b[0m: \tmaxpool_2: 4\n",
      "\u001b[34m\u001b[1mwandb\u001b[0m: \tnum_epoch: 1\n",
      "\u001b[34m\u001b[1mwandb\u001b[0m: \tnum_filters_1: 73\n",
      "\u001b[34m\u001b[1mwandb\u001b[0m: \tnum_filters_2: 79\n",
      "\u001b[34m\u001b[1mwandb\u001b[0m: \tnum_layers: 3\n",
      "\u001b[34m\u001b[1mwandb\u001b[0m: \tresult_dir: /home/quanhhh/Documents/model/model_spec/results/\n",
      "\u001b[34m\u001b[1mwandb\u001b[0m: \tweight_decay: 0.0003333375666494593\n",
      "Failed to detect the name of this notebook, you can set it manually with the WANDB_NOTEBOOK_NAME environment variable to enable code saving.\n"
     ]
    },
    {
     "data": {
      "text/html": [
       "wandb version 0.15.8 is available!  To upgrade, please run:\n",
       " $ pip install wandb --upgrade"
      ],
      "text/plain": [
       "<IPython.core.display.HTML object>"
      ]
     },
     "metadata": {},
     "output_type": "display_data"
    },
    {
     "data": {
      "text/html": [
       "Tracking run with wandb version 0.13.4"
      ],
      "text/plain": [
       "<IPython.core.display.HTML object>"
      ]
     },
     "metadata": {},
     "output_type": "display_data"
    },
    {
     "data": {
      "text/html": [
       "Run data is saved locally in <code>/home/quanhhh/Documents/model/model_spec/wandb/run-20230807_092052-8aql5s2c</code>"
      ],
      "text/plain": [
       "<IPython.core.display.HTML object>"
      ]
     },
     "metadata": {},
     "output_type": "display_data"
    },
    {
     "data": {
      "text/html": [
       "Syncing run <strong><a href=\"https://wandb.ai/maiquanh/melspec_buzz2_cpu_0708/runs/8aql5s2c\" target=\"_blank\">effortless-sweep-12</a></strong> to <a href=\"https://wandb.ai/maiquanh/melspec_buzz2_cpu_0708\" target=\"_blank\">Weights & Biases</a> (<a href=\"https://wandb.me/run\" target=\"_blank\">docs</a>)<br/>Sweep page:  <a href=\"https://wandb.ai/maiquanh/melspec_buzz2_cpu_0708/sweeps/smk5hhg0\" target=\"_blank\">https://wandb.ai/maiquanh/melspec_buzz2_cpu_0708/sweeps/smk5hhg0</a>"
      ],
      "text/plain": [
       "<IPython.core.display.HTML object>"
      ]
     },
     "metadata": {},
     "output_type": "display_data"
    },
    {
     "name": "stdout",
     "output_type": "stream",
     "text": [
      "(1, 169, 128)\n",
      "start:  164111179018110\n",
      "-----START TRAINING CLASSIFICATION-----\n",
      "Epoch: 1\t| Train_loss: 0.006725\t|Train accuracy: 97.441308\t| Test_loss: 0.006027\t|Test accuracy: 85.077187\t|Val accuracy: 68.933334 \n",
      "\n",
      "----COMPLETED TRAINING CLASSIFICATION-----\n",
      "end:  164279973130105\n"
     ]
    },
    {
     "data": {
      "text/html": [
       "Waiting for W&B process to finish... <strong style=\"color:green\">(success).</strong>"
      ],
      "text/plain": [
       "<IPython.core.display.HTML object>"
      ]
     },
     "metadata": {},
     "output_type": "display_data"
    },
    {
     "data": {
      "text/html": [
       "<style>\n",
       "    table.wandb td:nth-child(1) { padding: 0 10px; text-align: left ; width: auto;} td:nth-child(2) {text-align: left ; width: 100%}\n",
       "    .wandb-row { display: flex; flex-direction: row; flex-wrap: wrap; justify-content: flex-start; width: 100% }\n",
       "    .wandb-col { display: flex; flex-direction: column; flex-basis: 100%; flex: 1; padding: 10px; }\n",
       "    </style>\n",
       "<div class=\"wandb-row\"><div class=\"wandb-col\"><h3>Run history:</h3><br/><table class=\"wandb\"><tr><td>test_acc</td><td>▁</td></tr><tr><td>val_acc</td><td>▁</td></tr></table><br/></div><div class=\"wandb-col\"><h3>Run summary:</h3><br/><table class=\"wandb\"><tr><td>test_acc</td><td>85.07719</td></tr><tr><td>val_acc</td><td>68.93333</td></tr></table><br/></div></div>"
      ],
      "text/plain": [
       "<IPython.core.display.HTML object>"
      ]
     },
     "metadata": {},
     "output_type": "display_data"
    },
    {
     "data": {
      "text/html": [
       "Synced <strong style=\"color:#cdcd00\">effortless-sweep-12</strong>: <a href=\"https://wandb.ai/maiquanh/melspec_buzz2_cpu_0708/runs/8aql5s2c\" target=\"_blank\">https://wandb.ai/maiquanh/melspec_buzz2_cpu_0708/runs/8aql5s2c</a><br/>Synced 6 W&B file(s), 2 media file(s), 2 artifact file(s) and 0 other file(s)"
      ],
      "text/plain": [
       "<IPython.core.display.HTML object>"
      ]
     },
     "metadata": {},
     "output_type": "display_data"
    },
    {
     "data": {
      "text/html": [
       "Find logs at: <code>./wandb/run-20230807_092052-8aql5s2c/logs</code>"
      ],
      "text/plain": [
       "<IPython.core.display.HTML object>"
      ]
     },
     "metadata": {},
     "output_type": "display_data"
    },
    {
     "name": "stderr",
     "output_type": "stream",
     "text": [
      "\u001b[34m\u001b[1mwandb\u001b[0m: Agent Starting Run: bno5zwdu with config:\n",
      "\u001b[34m\u001b[1mwandb\u001b[0m: \tbatch_size: 128\n",
      "\u001b[34m\u001b[1mwandb\u001b[0m: \td_hidden: 32\n",
      "\u001b[34m\u001b[1mwandb\u001b[0m: \tdata_dir: /home/quanhhh/Documents/model/data_dir/\n",
      "\u001b[34m\u001b[1mwandb\u001b[0m: \tdropout: 0.14276076925593667\n",
      "\u001b[34m\u001b[1mwandb\u001b[0m: \tkernel_size_1: 4\n",
      "\u001b[34m\u001b[1mwandb\u001b[0m: \tkernel_size_2: 6\n",
      "\u001b[34m\u001b[1mwandb\u001b[0m: \tlr: 0.001486132993433076\n",
      "\u001b[34m\u001b[1mwandb\u001b[0m: \tmaxpool_1: 5\n",
      "\u001b[34m\u001b[1mwandb\u001b[0m: \tmaxpool_2: 5\n",
      "\u001b[34m\u001b[1mwandb\u001b[0m: \tnum_epoch: 1\n",
      "\u001b[34m\u001b[1mwandb\u001b[0m: \tnum_filters_1: 73\n",
      "\u001b[34m\u001b[1mwandb\u001b[0m: \tnum_filters_2: 63\n",
      "\u001b[34m\u001b[1mwandb\u001b[0m: \tnum_layers: 4\n",
      "\u001b[34m\u001b[1mwandb\u001b[0m: \tresult_dir: /home/quanhhh/Documents/model/model_spec/results/\n",
      "\u001b[34m\u001b[1mwandb\u001b[0m: \tweight_decay: 0.0002717440380663349\n",
      "Failed to detect the name of this notebook, you can set it manually with the WANDB_NOTEBOOK_NAME environment variable to enable code saving.\n"
     ]
    },
    {
     "data": {
      "text/html": [
       "wandb version 0.15.8 is available!  To upgrade, please run:\n",
       " $ pip install wandb --upgrade"
      ],
      "text/plain": [
       "<IPython.core.display.HTML object>"
      ]
     },
     "metadata": {},
     "output_type": "display_data"
    },
    {
     "data": {
      "text/html": [
       "Tracking run with wandb version 0.13.4"
      ],
      "text/plain": [
       "<IPython.core.display.HTML object>"
      ]
     },
     "metadata": {},
     "output_type": "display_data"
    },
    {
     "data": {
      "text/html": [
       "Run data is saved locally in <code>/home/quanhhh/Documents/model/model_spec/wandb/run-20230807_092400-bno5zwdu</code>"
      ],
      "text/plain": [
       "<IPython.core.display.HTML object>"
      ]
     },
     "metadata": {},
     "output_type": "display_data"
    },
    {
     "data": {
      "text/html": [
       "Syncing run <strong><a href=\"https://wandb.ai/maiquanh/melspec_buzz2_cpu_0708/runs/bno5zwdu\" target=\"_blank\">divine-sweep-13</a></strong> to <a href=\"https://wandb.ai/maiquanh/melspec_buzz2_cpu_0708\" target=\"_blank\">Weights & Biases</a> (<a href=\"https://wandb.me/run\" target=\"_blank\">docs</a>)<br/>Sweep page:  <a href=\"https://wandb.ai/maiquanh/melspec_buzz2_cpu_0708/sweeps/smk5hhg0\" target=\"_blank\">https://wandb.ai/maiquanh/melspec_buzz2_cpu_0708/sweeps/smk5hhg0</a>"
      ],
      "text/plain": [
       "<IPython.core.display.HTML object>"
      ]
     },
     "metadata": {},
     "output_type": "display_data"
    },
    {
     "name": "stdout",
     "output_type": "stream",
     "text": [
      "(1, 169, 128)\n",
      "start:  164298644492240\n",
      "-----START TRAINING CLASSIFICATION-----\n",
      "Epoch: 1\t| Train_loss: 0.006988\t|Train accuracy: 77.130045\t| Test_loss: 0.006987\t|Test accuracy: 70.240137\t|Val accuracy: 57.466667 \n",
      "\n",
      "----COMPLETED TRAINING CLASSIFICATION-----\n",
      "end:  164408601296537\n"
     ]
    },
    {
     "data": {
      "text/html": [
       "Waiting for W&B process to finish... <strong style=\"color:green\">(success).</strong>"
      ],
      "text/plain": [
       "<IPython.core.display.HTML object>"
      ]
     },
     "metadata": {},
     "output_type": "display_data"
    },
    {
     "data": {
      "text/html": [
       "<style>\n",
       "    table.wandb td:nth-child(1) { padding: 0 10px; text-align: left ; width: auto;} td:nth-child(2) {text-align: left ; width: 100%}\n",
       "    .wandb-row { display: flex; flex-direction: row; flex-wrap: wrap; justify-content: flex-start; width: 100% }\n",
       "    .wandb-col { display: flex; flex-direction: column; flex-basis: 100%; flex: 1; padding: 10px; }\n",
       "    </style>\n",
       "<div class=\"wandb-row\"><div class=\"wandb-col\"><h3>Run history:</h3><br/><table class=\"wandb\"><tr><td>test_acc</td><td>▁</td></tr><tr><td>val_acc</td><td>▁</td></tr></table><br/></div><div class=\"wandb-col\"><h3>Run summary:</h3><br/><table class=\"wandb\"><tr><td>test_acc</td><td>70.24014</td></tr><tr><td>val_acc</td><td>57.46667</td></tr></table><br/></div></div>"
      ],
      "text/plain": [
       "<IPython.core.display.HTML object>"
      ]
     },
     "metadata": {},
     "output_type": "display_data"
    },
    {
     "data": {
      "text/html": [
       "Synced <strong style=\"color:#cdcd00\">divine-sweep-13</strong>: <a href=\"https://wandb.ai/maiquanh/melspec_buzz2_cpu_0708/runs/bno5zwdu\" target=\"_blank\">https://wandb.ai/maiquanh/melspec_buzz2_cpu_0708/runs/bno5zwdu</a><br/>Synced 6 W&B file(s), 2 media file(s), 2 artifact file(s) and 0 other file(s)"
      ],
      "text/plain": [
       "<IPython.core.display.HTML object>"
      ]
     },
     "metadata": {},
     "output_type": "display_data"
    },
    {
     "data": {
      "text/html": [
       "Find logs at: <code>./wandb/run-20230807_092400-bno5zwdu/logs</code>"
      ],
      "text/plain": [
       "<IPython.core.display.HTML object>"
      ]
     },
     "metadata": {},
     "output_type": "display_data"
    },
    {
     "name": "stderr",
     "output_type": "stream",
     "text": [
      "\u001b[34m\u001b[1mwandb\u001b[0m: Agent Starting Run: gcks9asv with config:\n",
      "\u001b[34m\u001b[1mwandb\u001b[0m: \tbatch_size: 128\n",
      "\u001b[34m\u001b[1mwandb\u001b[0m: \td_hidden: 32\n",
      "\u001b[34m\u001b[1mwandb\u001b[0m: \tdata_dir: /home/quanhhh/Documents/model/data_dir/\n",
      "\u001b[34m\u001b[1mwandb\u001b[0m: \tdropout: 0.05500284962722021\n",
      "\u001b[34m\u001b[1mwandb\u001b[0m: \tkernel_size_1: 7\n",
      "\u001b[34m\u001b[1mwandb\u001b[0m: \tkernel_size_2: 6\n",
      "\u001b[34m\u001b[1mwandb\u001b[0m: \tlr: 0.0011700425581399104\n",
      "\u001b[34m\u001b[1mwandb\u001b[0m: \tmaxpool_1: 5\n",
      "\u001b[34m\u001b[1mwandb\u001b[0m: \tmaxpool_2: 7\n",
      "\u001b[34m\u001b[1mwandb\u001b[0m: \tnum_epoch: 1\n",
      "\u001b[34m\u001b[1mwandb\u001b[0m: \tnum_filters_1: 79\n",
      "\u001b[34m\u001b[1mwandb\u001b[0m: \tnum_filters_2: 76\n",
      "\u001b[34m\u001b[1mwandb\u001b[0m: \tnum_layers: 4\n",
      "\u001b[34m\u001b[1mwandb\u001b[0m: \tresult_dir: /home/quanhhh/Documents/model/model_spec/results/\n",
      "\u001b[34m\u001b[1mwandb\u001b[0m: \tweight_decay: 0.0004809064620340264\n",
      "Failed to detect the name of this notebook, you can set it manually with the WANDB_NOTEBOOK_NAME environment variable to enable code saving.\n"
     ]
    },
    {
     "data": {
      "text/html": [
       "wandb version 0.15.8 is available!  To upgrade, please run:\n",
       " $ pip install wandb --upgrade"
      ],
      "text/plain": [
       "<IPython.core.display.HTML object>"
      ]
     },
     "metadata": {},
     "output_type": "display_data"
    },
    {
     "data": {
      "text/html": [
       "Tracking run with wandb version 0.13.4"
      ],
      "text/plain": [
       "<IPython.core.display.HTML object>"
      ]
     },
     "metadata": {},
     "output_type": "display_data"
    },
    {
     "data": {
      "text/html": [
       "Run data is saved locally in <code>/home/quanhhh/Documents/model/model_spec/wandb/run-20230807_092615-gcks9asv</code>"
      ],
      "text/plain": [
       "<IPython.core.display.HTML object>"
      ]
     },
     "metadata": {},
     "output_type": "display_data"
    },
    {
     "data": {
      "text/html": [
       "Syncing run <strong><a href=\"https://wandb.ai/maiquanh/melspec_buzz2_cpu_0708/runs/gcks9asv\" target=\"_blank\">lemon-sweep-14</a></strong> to <a href=\"https://wandb.ai/maiquanh/melspec_buzz2_cpu_0708\" target=\"_blank\">Weights & Biases</a> (<a href=\"https://wandb.me/run\" target=\"_blank\">docs</a>)<br/>Sweep page:  <a href=\"https://wandb.ai/maiquanh/melspec_buzz2_cpu_0708/sweeps/smk5hhg0\" target=\"_blank\">https://wandb.ai/maiquanh/melspec_buzz2_cpu_0708/sweeps/smk5hhg0</a>"
      ],
      "text/plain": [
       "<IPython.core.display.HTML object>"
      ]
     },
     "metadata": {},
     "output_type": "display_data"
    },
    {
     "name": "stdout",
     "output_type": "stream",
     "text": [
      "(1, 169, 128)\n",
      "start:  164433084078649\n",
      "-----START TRAINING CLASSIFICATION-----\n",
      "Epoch: 1\t| Train_loss: 0.007044\t|Train accuracy: 87.720918\t| Test_loss: 0.006775\t|Test accuracy: 79.545455\t|Val accuracy: 65.566666 \n",
      "\n",
      "----COMPLETED TRAINING CLASSIFICATION-----\n",
      "end:  164559793830644\n"
     ]
    },
    {
     "data": {
      "text/html": [
       "Waiting for W&B process to finish... <strong style=\"color:green\">(success).</strong>"
      ],
      "text/plain": [
       "<IPython.core.display.HTML object>"
      ]
     },
     "metadata": {},
     "output_type": "display_data"
    },
    {
     "data": {
      "text/html": [
       "<style>\n",
       "    table.wandb td:nth-child(1) { padding: 0 10px; text-align: left ; width: auto;} td:nth-child(2) {text-align: left ; width: 100%}\n",
       "    .wandb-row { display: flex; flex-direction: row; flex-wrap: wrap; justify-content: flex-start; width: 100% }\n",
       "    .wandb-col { display: flex; flex-direction: column; flex-basis: 100%; flex: 1; padding: 10px; }\n",
       "    </style>\n",
       "<div class=\"wandb-row\"><div class=\"wandb-col\"><h3>Run history:</h3><br/><table class=\"wandb\"><tr><td>test_acc</td><td>▁</td></tr><tr><td>val_acc</td><td>▁</td></tr></table><br/></div><div class=\"wandb-col\"><h3>Run summary:</h3><br/><table class=\"wandb\"><tr><td>test_acc</td><td>79.54545</td></tr><tr><td>val_acc</td><td>65.56667</td></tr></table><br/></div></div>"
      ],
      "text/plain": [
       "<IPython.core.display.HTML object>"
      ]
     },
     "metadata": {},
     "output_type": "display_data"
    },
    {
     "data": {
      "text/html": [
       "Synced <strong style=\"color:#cdcd00\">lemon-sweep-14</strong>: <a href=\"https://wandb.ai/maiquanh/melspec_buzz2_cpu_0708/runs/gcks9asv\" target=\"_blank\">https://wandb.ai/maiquanh/melspec_buzz2_cpu_0708/runs/gcks9asv</a><br/>Synced 6 W&B file(s), 2 media file(s), 2 artifact file(s) and 0 other file(s)"
      ],
      "text/plain": [
       "<IPython.core.display.HTML object>"
      ]
     },
     "metadata": {},
     "output_type": "display_data"
    },
    {
     "data": {
      "text/html": [
       "Find logs at: <code>./wandb/run-20230807_092615-gcks9asv/logs</code>"
      ],
      "text/plain": [
       "<IPython.core.display.HTML object>"
      ]
     },
     "metadata": {},
     "output_type": "display_data"
    },
    {
     "name": "stderr",
     "output_type": "stream",
     "text": [
      "\u001b[34m\u001b[1mwandb\u001b[0m: Sweep Agent: Waiting for job.\n",
      "\u001b[34m\u001b[1mwandb\u001b[0m: Job received.\n",
      "\u001b[34m\u001b[1mwandb\u001b[0m: Agent Starting Run: h5ycnpju with config:\n",
      "\u001b[34m\u001b[1mwandb\u001b[0m: \tbatch_size: 128\n",
      "\u001b[34m\u001b[1mwandb\u001b[0m: \td_hidden: 64\n",
      "\u001b[34m\u001b[1mwandb\u001b[0m: \tdata_dir: /home/quanhhh/Documents/model/data_dir/\n",
      "\u001b[34m\u001b[1mwandb\u001b[0m: \tdropout: 0.03886897328464712\n",
      "\u001b[34m\u001b[1mwandb\u001b[0m: \tkernel_size_1: 9\n",
      "\u001b[34m\u001b[1mwandb\u001b[0m: \tkernel_size_2: 8\n",
      "\u001b[34m\u001b[1mwandb\u001b[0m: \tlr: 0.004330789156995181\n",
      "\u001b[34m\u001b[1mwandb\u001b[0m: \tmaxpool_1: 5\n",
      "\u001b[34m\u001b[1mwandb\u001b[0m: \tmaxpool_2: 8\n",
      "\u001b[34m\u001b[1mwandb\u001b[0m: \tnum_epoch: 1\n",
      "\u001b[34m\u001b[1mwandb\u001b[0m: \tnum_filters_1: 46\n",
      "\u001b[34m\u001b[1mwandb\u001b[0m: \tnum_filters_2: 68\n",
      "\u001b[34m\u001b[1mwandb\u001b[0m: \tnum_layers: 4\n",
      "\u001b[34m\u001b[1mwandb\u001b[0m: \tresult_dir: /home/quanhhh/Documents/model/model_spec/results/\n",
      "\u001b[34m\u001b[1mwandb\u001b[0m: \tweight_decay: 0.00028678469334075763\n",
      "Failed to detect the name of this notebook, you can set it manually with the WANDB_NOTEBOOK_NAME environment variable to enable code saving.\n"
     ]
    },
    {
     "data": {
      "text/html": [
       "wandb version 0.15.8 is available!  To upgrade, please run:\n",
       " $ pip install wandb --upgrade"
      ],
      "text/plain": [
       "<IPython.core.display.HTML object>"
      ]
     },
     "metadata": {},
     "output_type": "display_data"
    },
    {
     "data": {
      "text/html": [
       "Tracking run with wandb version 0.13.4"
      ],
      "text/plain": [
       "<IPython.core.display.HTML object>"
      ]
     },
     "metadata": {},
     "output_type": "display_data"
    },
    {
     "data": {
      "text/html": [
       "Run data is saved locally in <code>/home/quanhhh/Documents/model/model_spec/wandb/run-20230807_092849-h5ycnpju</code>"
      ],
      "text/plain": [
       "<IPython.core.display.HTML object>"
      ]
     },
     "metadata": {},
     "output_type": "display_data"
    },
    {
     "data": {
      "text/html": [
       "Syncing run <strong><a href=\"https://wandb.ai/maiquanh/melspec_buzz2_cpu_0708/runs/h5ycnpju\" target=\"_blank\">tough-sweep-15</a></strong> to <a href=\"https://wandb.ai/maiquanh/melspec_buzz2_cpu_0708\" target=\"_blank\">Weights & Biases</a> (<a href=\"https://wandb.me/run\" target=\"_blank\">docs</a>)<br/>Sweep page:  <a href=\"https://wandb.ai/maiquanh/melspec_buzz2_cpu_0708/sweeps/smk5hhg0\" target=\"_blank\">https://wandb.ai/maiquanh/melspec_buzz2_cpu_0708/sweeps/smk5hhg0</a>"
      ],
      "text/plain": [
       "<IPython.core.display.HTML object>"
      ]
     },
     "metadata": {},
     "output_type": "display_data"
    },
    {
     "name": "stdout",
     "output_type": "stream",
     "text": [
      "(1, 169, 128)\n",
      "start:  164587900811766\n",
      "-----START TRAINING CLASSIFICATION-----\n",
      "Epoch: 1\t| Train_loss: 0.006023\t|Train accuracy: 26.602480\t| Test_loss: 0.009036\t|Test accuracy: 40.008576\t|Val accuracy: 39.299999 \n",
      "\n",
      "----COMPLETED TRAINING CLASSIFICATION-----\n",
      "end:  164689919584492\n"
     ]
    },
    {
     "data": {
      "text/html": [
       "Waiting for W&B process to finish... <strong style=\"color:green\">(success).</strong>"
      ],
      "text/plain": [
       "<IPython.core.display.HTML object>"
      ]
     },
     "metadata": {},
     "output_type": "display_data"
    },
    {
     "data": {
      "text/html": [
       "<style>\n",
       "    table.wandb td:nth-child(1) { padding: 0 10px; text-align: left ; width: auto;} td:nth-child(2) {text-align: left ; width: 100%}\n",
       "    .wandb-row { display: flex; flex-direction: row; flex-wrap: wrap; justify-content: flex-start; width: 100% }\n",
       "    .wandb-col { display: flex; flex-direction: column; flex-basis: 100%; flex: 1; padding: 10px; }\n",
       "    </style>\n",
       "<div class=\"wandb-row\"><div class=\"wandb-col\"><h3>Run history:</h3><br/><table class=\"wandb\"><tr><td>test_acc</td><td>▁</td></tr><tr><td>val_acc</td><td>▁</td></tr></table><br/></div><div class=\"wandb-col\"><h3>Run summary:</h3><br/><table class=\"wandb\"><tr><td>test_acc</td><td>40.00858</td></tr><tr><td>val_acc</td><td>39.3</td></tr></table><br/></div></div>"
      ],
      "text/plain": [
       "<IPython.core.display.HTML object>"
      ]
     },
     "metadata": {},
     "output_type": "display_data"
    },
    {
     "data": {
      "text/html": [
       "Synced <strong style=\"color:#cdcd00\">tough-sweep-15</strong>: <a href=\"https://wandb.ai/maiquanh/melspec_buzz2_cpu_0708/runs/h5ycnpju\" target=\"_blank\">https://wandb.ai/maiquanh/melspec_buzz2_cpu_0708/runs/h5ycnpju</a><br/>Synced 6 W&B file(s), 2 media file(s), 2 artifact file(s) and 0 other file(s)"
      ],
      "text/plain": [
       "<IPython.core.display.HTML object>"
      ]
     },
     "metadata": {},
     "output_type": "display_data"
    },
    {
     "data": {
      "text/html": [
       "Find logs at: <code>./wandb/run-20230807_092849-h5ycnpju/logs</code>"
      ],
      "text/plain": [
       "<IPython.core.display.HTML object>"
      ]
     },
     "metadata": {},
     "output_type": "display_data"
    },
    {
     "name": "stderr",
     "output_type": "stream",
     "text": [
      "\u001b[34m\u001b[1mwandb\u001b[0m: Agent Starting Run: i2uxc1vn with config:\n",
      "\u001b[34m\u001b[1mwandb\u001b[0m: \tbatch_size: 128\n",
      "\u001b[34m\u001b[1mwandb\u001b[0m: \td_hidden: 64\n",
      "\u001b[34m\u001b[1mwandb\u001b[0m: \tdata_dir: /home/quanhhh/Documents/model/data_dir/\n",
      "\u001b[34m\u001b[1mwandb\u001b[0m: \tdropout: 0.08764400065159295\n",
      "\u001b[34m\u001b[1mwandb\u001b[0m: \tkernel_size_1: 8\n",
      "\u001b[34m\u001b[1mwandb\u001b[0m: \tkernel_size_2: 4\n",
      "\u001b[34m\u001b[1mwandb\u001b[0m: \tlr: 0.0003301559109183665\n",
      "\u001b[34m\u001b[1mwandb\u001b[0m: \tmaxpool_1: 4\n",
      "\u001b[34m\u001b[1mwandb\u001b[0m: \tmaxpool_2: 6\n",
      "\u001b[34m\u001b[1mwandb\u001b[0m: \tnum_epoch: 1\n",
      "\u001b[34m\u001b[1mwandb\u001b[0m: \tnum_filters_1: 78\n",
      "\u001b[34m\u001b[1mwandb\u001b[0m: \tnum_filters_2: 78\n",
      "\u001b[34m\u001b[1mwandb\u001b[0m: \tnum_layers: 4\n",
      "\u001b[34m\u001b[1mwandb\u001b[0m: \tresult_dir: /home/quanhhh/Documents/model/model_spec/results/\n",
      "\u001b[34m\u001b[1mwandb\u001b[0m: \tweight_decay: 0.0002317203934914795\n",
      "Failed to detect the name of this notebook, you can set it manually with the WANDB_NOTEBOOK_NAME environment variable to enable code saving.\n"
     ]
    },
    {
     "data": {
      "text/html": [
       "wandb version 0.15.8 is available!  To upgrade, please run:\n",
       " $ pip install wandb --upgrade"
      ],
      "text/plain": [
       "<IPython.core.display.HTML object>"
      ]
     },
     "metadata": {},
     "output_type": "display_data"
    },
    {
     "data": {
      "text/html": [
       "Tracking run with wandb version 0.13.4"
      ],
      "text/plain": [
       "<IPython.core.display.HTML object>"
      ]
     },
     "metadata": {},
     "output_type": "display_data"
    },
    {
     "data": {
      "text/html": [
       "Run data is saved locally in <code>/home/quanhhh/Documents/model/model_spec/wandb/run-20230807_093054-i2uxc1vn</code>"
      ],
      "text/plain": [
       "<IPython.core.display.HTML object>"
      ]
     },
     "metadata": {},
     "output_type": "display_data"
    },
    {
     "data": {
      "text/html": [
       "Syncing run <strong><a href=\"https://wandb.ai/maiquanh/melspec_buzz2_cpu_0708/runs/i2uxc1vn\" target=\"_blank\">celestial-sweep-16</a></strong> to <a href=\"https://wandb.ai/maiquanh/melspec_buzz2_cpu_0708\" target=\"_blank\">Weights & Biases</a> (<a href=\"https://wandb.me/run\" target=\"_blank\">docs</a>)<br/>Sweep page:  <a href=\"https://wandb.ai/maiquanh/melspec_buzz2_cpu_0708/sweeps/smk5hhg0\" target=\"_blank\">https://wandb.ai/maiquanh/melspec_buzz2_cpu_0708/sweeps/smk5hhg0</a>"
      ],
      "text/plain": [
       "<IPython.core.display.HTML object>"
      ]
     },
     "metadata": {},
     "output_type": "display_data"
    },
    {
     "name": "stdout",
     "output_type": "stream",
     "text": [
      "(1, 169, 128)\n",
      "start:  164712676792000\n",
      "-----START TRAINING CLASSIFICATION-----\n",
      "Epoch: 1\t| Train_loss: 0.007224\t|Train accuracy: 71.274070\t| Test_loss: 0.006836\t|Test accuracy: 60.162950\t|Val accuracy: 66.699997 \n",
      "\n",
      "----COMPLETED TRAINING CLASSIFICATION-----\n",
      "end:  164890131625050\n"
     ]
    },
    {
     "data": {
      "text/html": [
       "Waiting for W&B process to finish... <strong style=\"color:green\">(success).</strong>"
      ],
      "text/plain": [
       "<IPython.core.display.HTML object>"
      ]
     },
     "metadata": {},
     "output_type": "display_data"
    },
    {
     "data": {
      "text/html": [
       "<style>\n",
       "    table.wandb td:nth-child(1) { padding: 0 10px; text-align: left ; width: auto;} td:nth-child(2) {text-align: left ; width: 100%}\n",
       "    .wandb-row { display: flex; flex-direction: row; flex-wrap: wrap; justify-content: flex-start; width: 100% }\n",
       "    .wandb-col { display: flex; flex-direction: column; flex-basis: 100%; flex: 1; padding: 10px; }\n",
       "    </style>\n",
       "<div class=\"wandb-row\"><div class=\"wandb-col\"><h3>Run history:</h3><br/><table class=\"wandb\"><tr><td>test_acc</td><td>▁</td></tr><tr><td>val_acc</td><td>▁</td></tr></table><br/></div><div class=\"wandb-col\"><h3>Run summary:</h3><br/><table class=\"wandb\"><tr><td>test_acc</td><td>60.16295</td></tr><tr><td>val_acc</td><td>66.7</td></tr></table><br/></div></div>"
      ],
      "text/plain": [
       "<IPython.core.display.HTML object>"
      ]
     },
     "metadata": {},
     "output_type": "display_data"
    },
    {
     "data": {
      "text/html": [
       "Synced <strong style=\"color:#cdcd00\">celestial-sweep-16</strong>: <a href=\"https://wandb.ai/maiquanh/melspec_buzz2_cpu_0708/runs/i2uxc1vn\" target=\"_blank\">https://wandb.ai/maiquanh/melspec_buzz2_cpu_0708/runs/i2uxc1vn</a><br/>Synced 6 W&B file(s), 2 media file(s), 2 artifact file(s) and 0 other file(s)"
      ],
      "text/plain": [
       "<IPython.core.display.HTML object>"
      ]
     },
     "metadata": {},
     "output_type": "display_data"
    },
    {
     "data": {
      "text/html": [
       "Find logs at: <code>./wandb/run-20230807_093054-i2uxc1vn/logs</code>"
      ],
      "text/plain": [
       "<IPython.core.display.HTML object>"
      ]
     },
     "metadata": {},
     "output_type": "display_data"
    },
    {
     "name": "stderr",
     "output_type": "stream",
     "text": [
      "\u001b[34m\u001b[1mwandb\u001b[0m: Agent Starting Run: r4yockac with config:\n",
      "\u001b[34m\u001b[1mwandb\u001b[0m: \tbatch_size: 128\n",
      "\u001b[34m\u001b[1mwandb\u001b[0m: \td_hidden: 64\n",
      "\u001b[34m\u001b[1mwandb\u001b[0m: \tdata_dir: /home/quanhhh/Documents/model/data_dir/\n",
      "\u001b[34m\u001b[1mwandb\u001b[0m: \tdropout: 0.01499326130028346\n",
      "\u001b[34m\u001b[1mwandb\u001b[0m: \tkernel_size_1: 11\n",
      "\u001b[34m\u001b[1mwandb\u001b[0m: \tkernel_size_2: 4\n",
      "\u001b[34m\u001b[1mwandb\u001b[0m: \tlr: 0.0007147462587689563\n",
      "\u001b[34m\u001b[1mwandb\u001b[0m: \tmaxpool_1: 4\n",
      "\u001b[34m\u001b[1mwandb\u001b[0m: \tmaxpool_2: 2\n",
      "\u001b[34m\u001b[1mwandb\u001b[0m: \tnum_epoch: 1\n",
      "\u001b[34m\u001b[1mwandb\u001b[0m: \tnum_filters_1: 77\n",
      "\u001b[34m\u001b[1mwandb\u001b[0m: \tnum_filters_2: 76\n",
      "\u001b[34m\u001b[1mwandb\u001b[0m: \tnum_layers: 3\n",
      "\u001b[34m\u001b[1mwandb\u001b[0m: \tresult_dir: /home/quanhhh/Documents/model/model_spec/results/\n",
      "\u001b[34m\u001b[1mwandb\u001b[0m: \tweight_decay: 0.0002184869449575653\n",
      "Failed to detect the name of this notebook, you can set it manually with the WANDB_NOTEBOOK_NAME environment variable to enable code saving.\n"
     ]
    },
    {
     "data": {
      "text/html": [
       "wandb version 0.15.8 is available!  To upgrade, please run:\n",
       " $ pip install wandb --upgrade"
      ],
      "text/plain": [
       "<IPython.core.display.HTML object>"
      ]
     },
     "metadata": {},
     "output_type": "display_data"
    },
    {
     "data": {
      "text/html": [
       "Tracking run with wandb version 0.13.4"
      ],
      "text/plain": [
       "<IPython.core.display.HTML object>"
      ]
     },
     "metadata": {},
     "output_type": "display_data"
    },
    {
     "data": {
      "text/html": [
       "Run data is saved locally in <code>/home/quanhhh/Documents/model/model_spec/wandb/run-20230807_093412-r4yockac</code>"
      ],
      "text/plain": [
       "<IPython.core.display.HTML object>"
      ]
     },
     "metadata": {},
     "output_type": "display_data"
    },
    {
     "data": {
      "text/html": [
       "Syncing run <strong><a href=\"https://wandb.ai/maiquanh/melspec_buzz2_cpu_0708/runs/r4yockac\" target=\"_blank\">crimson-sweep-17</a></strong> to <a href=\"https://wandb.ai/maiquanh/melspec_buzz2_cpu_0708\" target=\"_blank\">Weights & Biases</a> (<a href=\"https://wandb.me/run\" target=\"_blank\">docs</a>)<br/>Sweep page:  <a href=\"https://wandb.ai/maiquanh/melspec_buzz2_cpu_0708/sweeps/smk5hhg0\" target=\"_blank\">https://wandb.ai/maiquanh/melspec_buzz2_cpu_0708/sweeps/smk5hhg0</a>"
      ],
      "text/plain": [
       "<IPython.core.display.HTML object>"
      ]
     },
     "metadata": {},
     "output_type": "display_data"
    },
    {
     "name": "stdout",
     "output_type": "stream",
     "text": [
      "(1, 169, 128)\n",
      "start:  164911093208112\n",
      "-----START TRAINING CLASSIFICATION-----\n",
      "Epoch: 1\t| Train_loss: 0.006178\t|Train accuracy: 74.610921\t| Test_loss: 0.005411\t|Test accuracy: 89.965695\t|Val accuracy: 73.566666 \n",
      "\n",
      "----COMPLETED TRAINING CLASSIFICATION-----\n",
      "end:  165093605512776\n"
     ]
    },
    {
     "data": {
      "text/html": [
       "Waiting for W&B process to finish... <strong style=\"color:green\">(success).</strong>"
      ],
      "text/plain": [
       "<IPython.core.display.HTML object>"
      ]
     },
     "metadata": {},
     "output_type": "display_data"
    },
    {
     "data": {
      "text/html": [
       "<style>\n",
       "    table.wandb td:nth-child(1) { padding: 0 10px; text-align: left ; width: auto;} td:nth-child(2) {text-align: left ; width: 100%}\n",
       "    .wandb-row { display: flex; flex-direction: row; flex-wrap: wrap; justify-content: flex-start; width: 100% }\n",
       "    .wandb-col { display: flex; flex-direction: column; flex-basis: 100%; flex: 1; padding: 10px; }\n",
       "    </style>\n",
       "<div class=\"wandb-row\"><div class=\"wandb-col\"><h3>Run history:</h3><br/><table class=\"wandb\"><tr><td>test_acc</td><td>▁</td></tr><tr><td>val_acc</td><td>▁</td></tr></table><br/></div><div class=\"wandb-col\"><h3>Run summary:</h3><br/><table class=\"wandb\"><tr><td>test_acc</td><td>89.96569</td></tr><tr><td>val_acc</td><td>73.56667</td></tr></table><br/></div></div>"
      ],
      "text/plain": [
       "<IPython.core.display.HTML object>"
      ]
     },
     "metadata": {},
     "output_type": "display_data"
    },
    {
     "data": {
      "text/html": [
       "Synced <strong style=\"color:#cdcd00\">crimson-sweep-17</strong>: <a href=\"https://wandb.ai/maiquanh/melspec_buzz2_cpu_0708/runs/r4yockac\" target=\"_blank\">https://wandb.ai/maiquanh/melspec_buzz2_cpu_0708/runs/r4yockac</a><br/>Synced 6 W&B file(s), 2 media file(s), 2 artifact file(s) and 0 other file(s)"
      ],
      "text/plain": [
       "<IPython.core.display.HTML object>"
      ]
     },
     "metadata": {},
     "output_type": "display_data"
    },
    {
     "data": {
      "text/html": [
       "Find logs at: <code>./wandb/run-20230807_093412-r4yockac/logs</code>"
      ],
      "text/plain": [
       "<IPython.core.display.HTML object>"
      ]
     },
     "metadata": {},
     "output_type": "display_data"
    },
    {
     "name": "stderr",
     "output_type": "stream",
     "text": [
      "\u001b[34m\u001b[1mwandb\u001b[0m: Agent Starting Run: tnp9piwd with config:\n",
      "\u001b[34m\u001b[1mwandb\u001b[0m: \tbatch_size: 128\n",
      "\u001b[34m\u001b[1mwandb\u001b[0m: \td_hidden: 64\n",
      "\u001b[34m\u001b[1mwandb\u001b[0m: \tdata_dir: /home/quanhhh/Documents/model/data_dir/\n",
      "\u001b[34m\u001b[1mwandb\u001b[0m: \tdropout: 0.025759129040921203\n",
      "\u001b[34m\u001b[1mwandb\u001b[0m: \tkernel_size_1: 8\n",
      "\u001b[34m\u001b[1mwandb\u001b[0m: \tkernel_size_2: 2\n",
      "\u001b[34m\u001b[1mwandb\u001b[0m: \tlr: 0.00017284504697366438\n",
      "\u001b[34m\u001b[1mwandb\u001b[0m: \tmaxpool_1: 3\n",
      "\u001b[34m\u001b[1mwandb\u001b[0m: \tmaxpool_2: 4\n",
      "\u001b[34m\u001b[1mwandb\u001b[0m: \tnum_epoch: 1\n",
      "\u001b[34m\u001b[1mwandb\u001b[0m: \tnum_filters_1: 73\n",
      "\u001b[34m\u001b[1mwandb\u001b[0m: \tnum_filters_2: 73\n",
      "\u001b[34m\u001b[1mwandb\u001b[0m: \tnum_layers: 4\n",
      "\u001b[34m\u001b[1mwandb\u001b[0m: \tresult_dir: /home/quanhhh/Documents/model/model_spec/results/\n",
      "\u001b[34m\u001b[1mwandb\u001b[0m: \tweight_decay: 0.0003575382481621907\n",
      "Failed to detect the name of this notebook, you can set it manually with the WANDB_NOTEBOOK_NAME environment variable to enable code saving.\n"
     ]
    },
    {
     "data": {
      "text/html": [
       "wandb version 0.15.8 is available!  To upgrade, please run:\n",
       " $ pip install wandb --upgrade"
      ],
      "text/plain": [
       "<IPython.core.display.HTML object>"
      ]
     },
     "metadata": {},
     "output_type": "display_data"
    },
    {
     "data": {
      "text/html": [
       "Tracking run with wandb version 0.13.4"
      ],
      "text/plain": [
       "<IPython.core.display.HTML object>"
      ]
     },
     "metadata": {},
     "output_type": "display_data"
    },
    {
     "data": {
      "text/html": [
       "Run data is saved locally in <code>/home/quanhhh/Documents/model/model_spec/wandb/run-20230807_093737-tnp9piwd</code>"
      ],
      "text/plain": [
       "<IPython.core.display.HTML object>"
      ]
     },
     "metadata": {},
     "output_type": "display_data"
    },
    {
     "data": {
      "text/html": [
       "Syncing run <strong><a href=\"https://wandb.ai/maiquanh/melspec_buzz2_cpu_0708/runs/tnp9piwd\" target=\"_blank\">swift-sweep-18</a></strong> to <a href=\"https://wandb.ai/maiquanh/melspec_buzz2_cpu_0708\" target=\"_blank\">Weights & Biases</a> (<a href=\"https://wandb.me/run\" target=\"_blank\">docs</a>)<br/>Sweep page:  <a href=\"https://wandb.ai/maiquanh/melspec_buzz2_cpu_0708/sweeps/smk5hhg0\" target=\"_blank\">https://wandb.ai/maiquanh/melspec_buzz2_cpu_0708/sweeps/smk5hhg0</a>"
      ],
      "text/plain": [
       "<IPython.core.display.HTML object>"
      ]
     },
     "metadata": {},
     "output_type": "display_data"
    },
    {
     "name": "stdout",
     "output_type": "stream",
     "text": [
      "(1, 169, 128)\n",
      "start:  165115676820504\n",
      "-----START TRAINING CLASSIFICATION-----\n",
      "Epoch: 1\t| Train_loss: 0.007500\t|Train accuracy: 71.234503\t| Test_loss: 0.007168\t|Test accuracy: 60.034305\t|Val accuracy: 66.666664 \n",
      "\n",
      "----COMPLETED TRAINING CLASSIFICATION-----\n",
      "end:  165274828056833\n"
     ]
    },
    {
     "data": {
      "text/html": [
       "Waiting for W&B process to finish... <strong style=\"color:green\">(success).</strong>"
      ],
      "text/plain": [
       "<IPython.core.display.HTML object>"
      ]
     },
     "metadata": {},
     "output_type": "display_data"
    },
    {
     "data": {
      "text/html": [
       "<style>\n",
       "    table.wandb td:nth-child(1) { padding: 0 10px; text-align: left ; width: auto;} td:nth-child(2) {text-align: left ; width: 100%}\n",
       "    .wandb-row { display: flex; flex-direction: row; flex-wrap: wrap; justify-content: flex-start; width: 100% }\n",
       "    .wandb-col { display: flex; flex-direction: column; flex-basis: 100%; flex: 1; padding: 10px; }\n",
       "    </style>\n",
       "<div class=\"wandb-row\"><div class=\"wandb-col\"><h3>Run history:</h3><br/><table class=\"wandb\"><tr><td>test_acc</td><td>▁</td></tr><tr><td>val_acc</td><td>▁</td></tr></table><br/></div><div class=\"wandb-col\"><h3>Run summary:</h3><br/><table class=\"wandb\"><tr><td>test_acc</td><td>60.03431</td></tr><tr><td>val_acc</td><td>66.66666</td></tr></table><br/></div></div>"
      ],
      "text/plain": [
       "<IPython.core.display.HTML object>"
      ]
     },
     "metadata": {},
     "output_type": "display_data"
    },
    {
     "data": {
      "text/html": [
       "Synced <strong style=\"color:#cdcd00\">swift-sweep-18</strong>: <a href=\"https://wandb.ai/maiquanh/melspec_buzz2_cpu_0708/runs/tnp9piwd\" target=\"_blank\">https://wandb.ai/maiquanh/melspec_buzz2_cpu_0708/runs/tnp9piwd</a><br/>Synced 6 W&B file(s), 2 media file(s), 2 artifact file(s) and 0 other file(s)"
      ],
      "text/plain": [
       "<IPython.core.display.HTML object>"
      ]
     },
     "metadata": {},
     "output_type": "display_data"
    },
    {
     "data": {
      "text/html": [
       "Find logs at: <code>./wandb/run-20230807_093737-tnp9piwd/logs</code>"
      ],
      "text/plain": [
       "<IPython.core.display.HTML object>"
      ]
     },
     "metadata": {},
     "output_type": "display_data"
    },
    {
     "name": "stderr",
     "output_type": "stream",
     "text": [
      "\u001b[34m\u001b[1mwandb\u001b[0m: Sweep Agent: Waiting for job.\n",
      "\u001b[34m\u001b[1mwandb\u001b[0m: Job received.\n",
      "\u001b[34m\u001b[1mwandb\u001b[0m: Agent Starting Run: 1fvkumxe with config:\n",
      "\u001b[34m\u001b[1mwandb\u001b[0m: \tbatch_size: 128\n",
      "\u001b[34m\u001b[1mwandb\u001b[0m: \td_hidden: 32\n",
      "\u001b[34m\u001b[1mwandb\u001b[0m: \tdata_dir: /home/quanhhh/Documents/model/data_dir/\n",
      "\u001b[34m\u001b[1mwandb\u001b[0m: \tdropout: 0.11284536804076332\n",
      "\u001b[34m\u001b[1mwandb\u001b[0m: \tkernel_size_1: 5\n",
      "\u001b[34m\u001b[1mwandb\u001b[0m: \tkernel_size_2: 2\n",
      "\u001b[34m\u001b[1mwandb\u001b[0m: \tlr: 0.0005521175221674865\n",
      "\u001b[34m\u001b[1mwandb\u001b[0m: \tmaxpool_1: 8\n",
      "\u001b[34m\u001b[1mwandb\u001b[0m: \tmaxpool_2: 6\n",
      "\u001b[34m\u001b[1mwandb\u001b[0m: \tnum_epoch: 1\n",
      "\u001b[34m\u001b[1mwandb\u001b[0m: \tnum_filters_1: 64\n",
      "\u001b[34m\u001b[1mwandb\u001b[0m: \tnum_filters_2: 77\n",
      "\u001b[34m\u001b[1mwandb\u001b[0m: \tnum_layers: 3\n",
      "\u001b[34m\u001b[1mwandb\u001b[0m: \tresult_dir: /home/quanhhh/Documents/model/model_spec/results/\n",
      "\u001b[34m\u001b[1mwandb\u001b[0m: \tweight_decay: 0.0004717955637180541\n",
      "Failed to detect the name of this notebook, you can set it manually with the WANDB_NOTEBOOK_NAME environment variable to enable code saving.\n"
     ]
    },
    {
     "data": {
      "text/html": [
       "wandb version 0.15.8 is available!  To upgrade, please run:\n",
       " $ pip install wandb --upgrade"
      ],
      "text/plain": [
       "<IPython.core.display.HTML object>"
      ]
     },
     "metadata": {},
     "output_type": "display_data"
    },
    {
     "data": {
      "text/html": [
       "Tracking run with wandb version 0.13.4"
      ],
      "text/plain": [
       "<IPython.core.display.HTML object>"
      ]
     },
     "metadata": {},
     "output_type": "display_data"
    },
    {
     "data": {
      "text/html": [
       "Run data is saved locally in <code>/home/quanhhh/Documents/model/model_spec/wandb/run-20230807_094044-1fvkumxe</code>"
      ],
      "text/plain": [
       "<IPython.core.display.HTML object>"
      ]
     },
     "metadata": {},
     "output_type": "display_data"
    },
    {
     "data": {
      "text/html": [
       "Syncing run <strong><a href=\"https://wandb.ai/maiquanh/melspec_buzz2_cpu_0708/runs/1fvkumxe\" target=\"_blank\">efficient-sweep-19</a></strong> to <a href=\"https://wandb.ai/maiquanh/melspec_buzz2_cpu_0708\" target=\"_blank\">Weights & Biases</a> (<a href=\"https://wandb.me/run\" target=\"_blank\">docs</a>)<br/>Sweep page:  <a href=\"https://wandb.ai/maiquanh/melspec_buzz2_cpu_0708/sweeps/smk5hhg0\" target=\"_blank\">https://wandb.ai/maiquanh/melspec_buzz2_cpu_0708/sweeps/smk5hhg0</a>"
      ],
      "text/plain": [
       "<IPython.core.display.HTML object>"
      ]
     },
     "metadata": {},
     "output_type": "display_data"
    },
    {
     "name": "stdout",
     "output_type": "stream",
     "text": [
      "(1, 169, 128)\n",
      "start:  165302264271962\n",
      "-----START TRAINING CLASSIFICATION-----\n",
      "Epoch: 1\t| Train_loss: 0.007809\t|Train accuracy: 71.986283\t| Test_loss: 0.007656\t|Test accuracy: 60.162950\t|Val accuracy: 55.033333 \n",
      "\n",
      "----COMPLETED TRAINING CLASSIFICATION-----\n",
      "end:  165410365182704\n"
     ]
    },
    {
     "data": {
      "text/html": [
       "Waiting for W&B process to finish... <strong style=\"color:green\">(success).</strong>"
      ],
      "text/plain": [
       "<IPython.core.display.HTML object>"
      ]
     },
     "metadata": {},
     "output_type": "display_data"
    },
    {
     "data": {
      "text/html": [
       "<style>\n",
       "    table.wandb td:nth-child(1) { padding: 0 10px; text-align: left ; width: auto;} td:nth-child(2) {text-align: left ; width: 100%}\n",
       "    .wandb-row { display: flex; flex-direction: row; flex-wrap: wrap; justify-content: flex-start; width: 100% }\n",
       "    .wandb-col { display: flex; flex-direction: column; flex-basis: 100%; flex: 1; padding: 10px; }\n",
       "    </style>\n",
       "<div class=\"wandb-row\"><div class=\"wandb-col\"><h3>Run history:</h3><br/><table class=\"wandb\"><tr><td>test_acc</td><td>▁</td></tr><tr><td>val_acc</td><td>▁</td></tr></table><br/></div><div class=\"wandb-col\"><h3>Run summary:</h3><br/><table class=\"wandb\"><tr><td>test_acc</td><td>60.16295</td></tr><tr><td>val_acc</td><td>55.03333</td></tr></table><br/></div></div>"
      ],
      "text/plain": [
       "<IPython.core.display.HTML object>"
      ]
     },
     "metadata": {},
     "output_type": "display_data"
    },
    {
     "data": {
      "text/html": [
       "Synced <strong style=\"color:#cdcd00\">efficient-sweep-19</strong>: <a href=\"https://wandb.ai/maiquanh/melspec_buzz2_cpu_0708/runs/1fvkumxe\" target=\"_blank\">https://wandb.ai/maiquanh/melspec_buzz2_cpu_0708/runs/1fvkumxe</a><br/>Synced 6 W&B file(s), 2 media file(s), 2 artifact file(s) and 0 other file(s)"
      ],
      "text/plain": [
       "<IPython.core.display.HTML object>"
      ]
     },
     "metadata": {},
     "output_type": "display_data"
    },
    {
     "data": {
      "text/html": [
       "Find logs at: <code>./wandb/run-20230807_094044-1fvkumxe/logs</code>"
      ],
      "text/plain": [
       "<IPython.core.display.HTML object>"
      ]
     },
     "metadata": {},
     "output_type": "display_data"
    },
    {
     "name": "stderr",
     "output_type": "stream",
     "text": [
      "\u001b[34m\u001b[1mwandb\u001b[0m: Agent Starting Run: l5r88frl with config:\n",
      "\u001b[34m\u001b[1mwandb\u001b[0m: \tbatch_size: 128\n",
      "\u001b[34m\u001b[1mwandb\u001b[0m: \td_hidden: 64\n",
      "\u001b[34m\u001b[1mwandb\u001b[0m: \tdata_dir: /home/quanhhh/Documents/model/data_dir/\n",
      "\u001b[34m\u001b[1mwandb\u001b[0m: \tdropout: 0.14367954349186657\n",
      "\u001b[34m\u001b[1mwandb\u001b[0m: \tkernel_size_1: 4\n",
      "\u001b[34m\u001b[1mwandb\u001b[0m: \tkernel_size_2: 10\n",
      "\u001b[34m\u001b[1mwandb\u001b[0m: \tlr: 0.0005870281305464286\n",
      "\u001b[34m\u001b[1mwandb\u001b[0m: \tmaxpool_1: 3\n",
      "\u001b[34m\u001b[1mwandb\u001b[0m: \tmaxpool_2: 7\n",
      "\u001b[34m\u001b[1mwandb\u001b[0m: \tnum_epoch: 1\n",
      "\u001b[34m\u001b[1mwandb\u001b[0m: \tnum_filters_1: 73\n",
      "\u001b[34m\u001b[1mwandb\u001b[0m: \tnum_filters_2: 72\n",
      "\u001b[34m\u001b[1mwandb\u001b[0m: \tnum_layers: 3\n",
      "\u001b[34m\u001b[1mwandb\u001b[0m: \tresult_dir: /home/quanhhh/Documents/model/model_spec/results/\n",
      "\u001b[34m\u001b[1mwandb\u001b[0m: \tweight_decay: 0.0004949389535116058\n",
      "Failed to detect the name of this notebook, you can set it manually with the WANDB_NOTEBOOK_NAME environment variable to enable code saving.\n"
     ]
    },
    {
     "data": {
      "text/html": [
       "wandb version 0.15.8 is available!  To upgrade, please run:\n",
       " $ pip install wandb --upgrade"
      ],
      "text/plain": [
       "<IPython.core.display.HTML object>"
      ]
     },
     "metadata": {},
     "output_type": "display_data"
    },
    {
     "data": {
      "text/html": [
       "Tracking run with wandb version 0.13.4"
      ],
      "text/plain": [
       "<IPython.core.display.HTML object>"
      ]
     },
     "metadata": {},
     "output_type": "display_data"
    },
    {
     "data": {
      "text/html": [
       "Run data is saved locally in <code>/home/quanhhh/Documents/model/model_spec/wandb/run-20230807_094254-l5r88frl</code>"
      ],
      "text/plain": [
       "<IPython.core.display.HTML object>"
      ]
     },
     "metadata": {},
     "output_type": "display_data"
    },
    {
     "data": {
      "text/html": [
       "Syncing run <strong><a href=\"https://wandb.ai/maiquanh/melspec_buzz2_cpu_0708/runs/l5r88frl\" target=\"_blank\">valiant-sweep-20</a></strong> to <a href=\"https://wandb.ai/maiquanh/melspec_buzz2_cpu_0708\" target=\"_blank\">Weights & Biases</a> (<a href=\"https://wandb.me/run\" target=\"_blank\">docs</a>)<br/>Sweep page:  <a href=\"https://wandb.ai/maiquanh/melspec_buzz2_cpu_0708/sweeps/smk5hhg0\" target=\"_blank\">https://wandb.ai/maiquanh/melspec_buzz2_cpu_0708/sweeps/smk5hhg0</a>"
      ],
      "text/plain": [
       "<IPython.core.display.HTML object>"
      ]
     },
     "metadata": {},
     "output_type": "display_data"
    },
    {
     "name": "stdout",
     "output_type": "stream",
     "text": [
      "(1, 169, 128)\n",
      "start:  165432318719347\n",
      "-----START TRAINING CLASSIFICATION-----\n",
      "Epoch: 1\t| Train_loss: 0.006729\t|Train accuracy: 91.321551\t| Test_loss: 0.005785\t|Test accuracy: 83.747856\t|Val accuracy: 58.766666 \n",
      "\n",
      "----COMPLETED TRAINING CLASSIFICATION-----\n",
      "end:  165702624333904\n"
     ]
    },
    {
     "data": {
      "text/html": [
       "Waiting for W&B process to finish... <strong style=\"color:green\">(success).</strong>"
      ],
      "text/plain": [
       "<IPython.core.display.HTML object>"
      ]
     },
     "metadata": {},
     "output_type": "display_data"
    },
    {
     "data": {
      "text/html": [
       "<style>\n",
       "    table.wandb td:nth-child(1) { padding: 0 10px; text-align: left ; width: auto;} td:nth-child(2) {text-align: left ; width: 100%}\n",
       "    .wandb-row { display: flex; flex-direction: row; flex-wrap: wrap; justify-content: flex-start; width: 100% }\n",
       "    .wandb-col { display: flex; flex-direction: column; flex-basis: 100%; flex: 1; padding: 10px; }\n",
       "    </style>\n",
       "<div class=\"wandb-row\"><div class=\"wandb-col\"><h3>Run history:</h3><br/><table class=\"wandb\"><tr><td>test_acc</td><td>▁</td></tr><tr><td>val_acc</td><td>▁</td></tr></table><br/></div><div class=\"wandb-col\"><h3>Run summary:</h3><br/><table class=\"wandb\"><tr><td>test_acc</td><td>83.74786</td></tr><tr><td>val_acc</td><td>58.76667</td></tr></table><br/></div></div>"
      ],
      "text/plain": [
       "<IPython.core.display.HTML object>"
      ]
     },
     "metadata": {},
     "output_type": "display_data"
    },
    {
     "data": {
      "text/html": [
       "Synced <strong style=\"color:#cdcd00\">valiant-sweep-20</strong>: <a href=\"https://wandb.ai/maiquanh/melspec_buzz2_cpu_0708/runs/l5r88frl\" target=\"_blank\">https://wandb.ai/maiquanh/melspec_buzz2_cpu_0708/runs/l5r88frl</a><br/>Synced 6 W&B file(s), 2 media file(s), 2 artifact file(s) and 0 other file(s)"
      ],
      "text/plain": [
       "<IPython.core.display.HTML object>"
      ]
     },
     "metadata": {},
     "output_type": "display_data"
    },
    {
     "data": {
      "text/html": [
       "Find logs at: <code>./wandb/run-20230807_094254-l5r88frl/logs</code>"
      ],
      "text/plain": [
       "<IPython.core.display.HTML object>"
      ]
     },
     "metadata": {},
     "output_type": "display_data"
    }
   ],
   "source": [
    "wandb.agent(sweep_id, function=trainwandb, count=20)"
   ]
  }
 ],
 "metadata": {
  "kernelspec": {
   "display_name": "Python 3.10.4 ('torch')",
   "language": "python",
   "name": "python3"
  },
  "language_info": {
   "codemirror_mode": {
    "name": "ipython",
    "version": 3
   },
   "file_extension": ".py",
   "mimetype": "text/x-python",
   "name": "python",
   "nbconvert_exporter": "python",
   "pygments_lexer": "ipython3",
   "version": "3.10.4"
  },
  "vscode": {
   "interpreter": {
    "hash": "99dd562274464ac4f8f08ae1dd21875d60a3f78d363ee37c9f3e501c0671512c"
   }
  }
 },
 "nbformat": 4,
 "nbformat_minor": 5
}
